{
 "cells": [
  {
   "cell_type": "markdown",
   "id": "6b686c36-3288-4aec-b590-4fd055b6350e",
   "metadata": {},
   "source": [
    "# Getting Started | ST-GCN with OpenPack Dataset (Keypoint)"
   ]
  },
  {
   "cell_type": "markdown",
   "id": "4d1546e1-71c7-4c94-9e4b-c079e6c92460",
   "metadata": {},
   "source": [
    "## [0] Inital Setup"
   ]
  },
  {
   "cell_type": "markdown",
   "id": "c8db39b1-8a79-465c-8a43-736d6f2e3e7a",
   "metadata": {},
   "source": [
    "### 0-1: Download Code and Install `openpack-torch` \n",
    "NOTE: You can also install `openpack-torch` from PyPI with `pip install openpack-torch`."
   ]
  },
  {
   "cell_type": "code",
   "execution_count": null,
   "id": "c96db04c-05f5-4aed-a843-49927f7d3d1b",
   "metadata": {},
   "outputs": [],
   "source": [
    "! cd /content && git clone https://github.com/open-pack/openpack-torch.git"
   ]
  },
  {
   "cell_type": "code",
   "execution_count": 1,
   "id": "3f48874c-6e41-4ec6-8f2c-5c0a8210616a",
   "metadata": {},
   "outputs": [
    {
     "name": "stdout",
     "output_type": "stream",
     "text": [
      "Defaulting to user installation because normal site-packages is not writeable\n",
      "Processing /home/bob/openpack-torch\n",
      "  Installing build dependencies ... \u001b[?25ldone\n",
      "\u001b[?25h  Getting requirements to build wheel ... \u001b[?25ldone\n",
      "\u001b[?25h  Preparing metadata (pyproject.toml) ... \u001b[?25ldone\n",
      "\u001b[?25hRequirement already satisfied: pytorch-lightning<2.0.0,>=1.6.3 in /home/bob/.local/lib/python3.8/site-packages (from openpack-torch==0.2.0) (1.6.3)\n",
      "Requirement already satisfied: openpack-toolkit<0.4.0,>=0.3.0 in /home/bob/.local/lib/python3.8/site-packages (from openpack-torch==0.2.0) (0.3.0)\n",
      "Requirement already satisfied: pandas<2.0.0,>=1.2.4 in /home/bob/.local/lib/python3.8/site-packages (from openpack-torch==0.2.0) (1.3.5)\n",
      "Requirement already satisfied: sklearn>=0.0 in /home/bob/.local/lib/python3.8/site-packages (from openpack-torch==0.2.0) (0.0)\n",
      "Requirement already satisfied: hydra-core<2.0.0,>=1.2.0 in /home/bob/.local/lib/python3.8/site-packages (from openpack-torch==0.2.0) (1.2.0)\n",
      "Requirement already satisfied: torch<2.0.0,>=1.9.0 in /opt/conda/lib/python3.8/site-packages (from openpack-torch==0.2.0) (1.11.0)\n",
      "Requirement already satisfied: tqdm<5.0.0,>=4.64.0 in /home/bob/.local/lib/python3.8/site-packages (from openpack-torch==0.2.0) (4.64.0)\n",
      "Requirement already satisfied: numpy<1.22.0 in /home/bob/.local/lib/python3.8/site-packages (from openpack-torch==0.2.0) (1.21.1)\n",
      "Requirement already satisfied: omegaconf<3.0.0,>=2.2.1 in /home/bob/.local/lib/python3.8/site-packages (from openpack-torch==0.2.0) (2.2.2)\n",
      "Requirement already satisfied: importlib-resources in /home/bob/.local/lib/python3.8/site-packages (from hydra-core<2.0.0,>=1.2.0->openpack-torch==0.2.0) (5.7.1)\n",
      "Requirement already satisfied: packaging in /home/bob/.local/lib/python3.8/site-packages (from hydra-core<2.0.0,>=1.2.0->openpack-torch==0.2.0) (21.3)\n",
      "Requirement already satisfied: antlr4-python3-runtime==4.9.* in /home/bob/.local/lib/python3.8/site-packages (from hydra-core<2.0.0,>=1.2.0->openpack-torch==0.2.0) (4.9.3)\n",
      "Requirement already satisfied: PyYAML>=5.1.0 in /opt/conda/lib/python3.8/site-packages (from omegaconf<3.0.0,>=2.2.1->openpack-torch==0.2.0) (6.0)\n",
      "Requirement already satisfied: scipy<2.0.0,>=1.7.3 in /home/bob/.local/lib/python3.8/site-packages (from openpack-toolkit<0.4.0,>=0.3.0->openpack-torch==0.2.0) (1.8.1)\n",
      "Requirement already satisfied: pytz>=2017.3 in /home/bob/.local/lib/python3.8/site-packages (from pandas<2.0.0,>=1.2.4->openpack-torch==0.2.0) (2022.1)\n",
      "Requirement already satisfied: python-dateutil>=2.7.3 in /home/bob/.local/lib/python3.8/site-packages (from pandas<2.0.0,>=1.2.4->openpack-torch==0.2.0) (2.8.2)\n",
      "Requirement already satisfied: tensorboard>=2.2.0 in /home/bob/.local/lib/python3.8/site-packages (from pytorch-lightning<2.0.0,>=1.6.3->openpack-torch==0.2.0) (2.9.0)\n",
      "Requirement already satisfied: torchmetrics>=0.4.1 in /home/bob/.local/lib/python3.8/site-packages (from pytorch-lightning<2.0.0,>=1.6.3->openpack-torch==0.2.0) (0.8.2)\n",
      "Requirement already satisfied: fsspec[http]!=2021.06.0,>=2021.05.0 in /home/bob/.local/lib/python3.8/site-packages (from pytorch-lightning<2.0.0,>=1.6.3->openpack-torch==0.2.0) (2022.5.0)\n",
      "Requirement already satisfied: typing-extensions>=4.0.0 in /home/bob/.local/lib/python3.8/site-packages (from pytorch-lightning<2.0.0,>=1.6.3->openpack-torch==0.2.0) (4.2.0)\n",
      "Requirement already satisfied: pyDeprecate<0.4.0,>=0.3.1 in /home/bob/.local/lib/python3.8/site-packages (from pytorch-lightning<2.0.0,>=1.6.3->openpack-torch==0.2.0) (0.3.2)\n",
      "Requirement already satisfied: scikit-learn in /home/bob/.local/lib/python3.8/site-packages (from sklearn>=0.0->openpack-torch==0.2.0) (1.0.2)\n",
      "Requirement already satisfied: aiohttp in /home/bob/.local/lib/python3.8/site-packages (from fsspec[http]!=2021.06.0,>=2021.05.0->pytorch-lightning<2.0.0,>=1.6.3->openpack-torch==0.2.0) (3.8.1)\n",
      "Requirement already satisfied: requests in /opt/conda/lib/python3.8/site-packages (from fsspec[http]!=2021.06.0,>=2021.05.0->pytorch-lightning<2.0.0,>=1.6.3->openpack-torch==0.2.0) (2.27.1)\n",
      "Requirement already satisfied: pyparsing!=3.0.5,>=2.0.2 in /home/bob/.local/lib/python3.8/site-packages (from packaging->hydra-core<2.0.0,>=1.2.0->openpack-torch==0.2.0) (3.0.9)\n",
      "Requirement already satisfied: six>=1.5 in /opt/conda/lib/python3.8/site-packages (from python-dateutil>=2.7.3->pandas<2.0.0,>=1.2.4->openpack-torch==0.2.0) (1.16.0)\n",
      "Requirement already satisfied: wheel>=0.26 in /opt/conda/lib/python3.8/site-packages (from tensorboard>=2.2.0->pytorch-lightning<2.0.0,>=1.6.3->openpack-torch==0.2.0) (0.37.1)\n",
      "Requirement already satisfied: grpcio>=1.24.3 in /home/bob/.local/lib/python3.8/site-packages (from tensorboard>=2.2.0->pytorch-lightning<2.0.0,>=1.6.3->openpack-torch==0.2.0) (1.46.3)\n",
      "Requirement already satisfied: tensorboard-data-server<0.7.0,>=0.6.0 in /home/bob/.local/lib/python3.8/site-packages (from tensorboard>=2.2.0->pytorch-lightning<2.0.0,>=1.6.3->openpack-torch==0.2.0) (0.6.1)\n",
      "Requirement already satisfied: markdown>=2.6.8 in /home/bob/.local/lib/python3.8/site-packages (from tensorboard>=2.2.0->pytorch-lightning<2.0.0,>=1.6.3->openpack-torch==0.2.0) (3.3.7)\n",
      "Requirement already satisfied: tensorboard-plugin-wit>=1.6.0 in /home/bob/.local/lib/python3.8/site-packages (from tensorboard>=2.2.0->pytorch-lightning<2.0.0,>=1.6.3->openpack-torch==0.2.0) (1.8.1)\n",
      "Requirement already satisfied: setuptools>=41.0.0 in /opt/conda/lib/python3.8/site-packages (from tensorboard>=2.2.0->pytorch-lightning<2.0.0,>=1.6.3->openpack-torch==0.2.0) (58.0.4)\n",
      "Requirement already satisfied: werkzeug>=1.0.1 in /home/bob/.local/lib/python3.8/site-packages (from tensorboard>=2.2.0->pytorch-lightning<2.0.0,>=1.6.3->openpack-torch==0.2.0) (2.1.2)\n",
      "Requirement already satisfied: protobuf>=3.9.2 in /home/bob/.local/lib/python3.8/site-packages (from tensorboard>=2.2.0->pytorch-lightning<2.0.0,>=1.6.3->openpack-torch==0.2.0) (3.20.1)\n",
      "Requirement already satisfied: absl-py>=0.4 in /home/bob/.local/lib/python3.8/site-packages (from tensorboard>=2.2.0->pytorch-lightning<2.0.0,>=1.6.3->openpack-torch==0.2.0) (1.0.0)\n",
      "Requirement already satisfied: google-auth<3,>=1.6.3 in /home/bob/.local/lib/python3.8/site-packages (from tensorboard>=2.2.0->pytorch-lightning<2.0.0,>=1.6.3->openpack-torch==0.2.0) (2.6.6)\n",
      "Requirement already satisfied: google-auth-oauthlib<0.5,>=0.4.1 in /home/bob/.local/lib/python3.8/site-packages (from tensorboard>=2.2.0->pytorch-lightning<2.0.0,>=1.6.3->openpack-torch==0.2.0) (0.4.6)\n",
      "Requirement already satisfied: zipp>=3.1.0 in /home/bob/.local/lib/python3.8/site-packages (from importlib-resources->hydra-core<2.0.0,>=1.2.0->openpack-torch==0.2.0) (3.8.0)\n",
      "Requirement already satisfied: joblib>=0.11 in /home/bob/.local/lib/python3.8/site-packages (from scikit-learn->sklearn>=0.0->openpack-torch==0.2.0) (1.1.0)\n",
      "Requirement already satisfied: threadpoolctl>=2.0.0 in /home/bob/.local/lib/python3.8/site-packages (from scikit-learn->sklearn>=0.0->openpack-torch==0.2.0) (3.1.0)\n",
      "Requirement already satisfied: rsa<5,>=3.1.4 in /home/bob/.local/lib/python3.8/site-packages (from google-auth<3,>=1.6.3->tensorboard>=2.2.0->pytorch-lightning<2.0.0,>=1.6.3->openpack-torch==0.2.0) (4.8)\n",
      "Requirement already satisfied: cachetools<6.0,>=2.0.0 in /home/bob/.local/lib/python3.8/site-packages (from google-auth<3,>=1.6.3->tensorboard>=2.2.0->pytorch-lightning<2.0.0,>=1.6.3->openpack-torch==0.2.0) (5.1.0)\n",
      "Requirement already satisfied: pyasn1-modules>=0.2.1 in /home/bob/.local/lib/python3.8/site-packages (from google-auth<3,>=1.6.3->tensorboard>=2.2.0->pytorch-lightning<2.0.0,>=1.6.3->openpack-torch==0.2.0) (0.2.8)\n",
      "Requirement already satisfied: requests-oauthlib>=0.7.0 in /home/bob/.local/lib/python3.8/site-packages (from google-auth-oauthlib<0.5,>=0.4.1->tensorboard>=2.2.0->pytorch-lightning<2.0.0,>=1.6.3->openpack-torch==0.2.0) (1.3.1)\n",
      "Requirement already satisfied: importlib-metadata>=4.4 in /home/bob/.local/lib/python3.8/site-packages (from markdown>=2.6.8->tensorboard>=2.2.0->pytorch-lightning<2.0.0,>=1.6.3->openpack-torch==0.2.0) (4.11.4)\n",
      "Requirement already satisfied: charset-normalizer~=2.0.0 in /home/bob/.local/lib/python3.8/site-packages (from requests->fsspec[http]!=2021.06.0,>=2021.05.0->pytorch-lightning<2.0.0,>=1.6.3->openpack-torch==0.2.0) (2.0.12)\n",
      "Requirement already satisfied: idna<4,>=2.5 in /opt/conda/lib/python3.8/site-packages (from requests->fsspec[http]!=2021.06.0,>=2021.05.0->pytorch-lightning<2.0.0,>=1.6.3->openpack-torch==0.2.0) (3.3)\n",
      "Requirement already satisfied: urllib3<1.27,>=1.21.1 in /home/bob/.local/lib/python3.8/site-packages (from requests->fsspec[http]!=2021.06.0,>=2021.05.0->pytorch-lightning<2.0.0,>=1.6.3->openpack-torch==0.2.0) (1.26.9)\n",
      "Requirement already satisfied: certifi>=2017.4.17 in /home/bob/.local/lib/python3.8/site-packages (from requests->fsspec[http]!=2021.06.0,>=2021.05.0->pytorch-lightning<2.0.0,>=1.6.3->openpack-torch==0.2.0) (2022.5.18.1)\n",
      "Requirement already satisfied: attrs>=17.3.0 in /home/bob/.local/lib/python3.8/site-packages (from aiohttp->fsspec[http]!=2021.06.0,>=2021.05.0->pytorch-lightning<2.0.0,>=1.6.3->openpack-torch==0.2.0) (21.4.0)\n",
      "Requirement already satisfied: frozenlist>=1.1.1 in /home/bob/.local/lib/python3.8/site-packages (from aiohttp->fsspec[http]!=2021.06.0,>=2021.05.0->pytorch-lightning<2.0.0,>=1.6.3->openpack-torch==0.2.0) (1.3.0)\n",
      "Requirement already satisfied: async-timeout<5.0,>=4.0.0a3 in /home/bob/.local/lib/python3.8/site-packages (from aiohttp->fsspec[http]!=2021.06.0,>=2021.05.0->pytorch-lightning<2.0.0,>=1.6.3->openpack-torch==0.2.0) (4.0.2)\n",
      "Requirement already satisfied: multidict<7.0,>=4.5 in /home/bob/.local/lib/python3.8/site-packages (from aiohttp->fsspec[http]!=2021.06.0,>=2021.05.0->pytorch-lightning<2.0.0,>=1.6.3->openpack-torch==0.2.0) (6.0.2)\n",
      "Requirement already satisfied: aiosignal>=1.1.2 in /home/bob/.local/lib/python3.8/site-packages (from aiohttp->fsspec[http]!=2021.06.0,>=2021.05.0->pytorch-lightning<2.0.0,>=1.6.3->openpack-torch==0.2.0) (1.2.0)\n",
      "Requirement already satisfied: yarl<2.0,>=1.0 in /home/bob/.local/lib/python3.8/site-packages (from aiohttp->fsspec[http]!=2021.06.0,>=2021.05.0->pytorch-lightning<2.0.0,>=1.6.3->openpack-torch==0.2.0) (1.7.2)\n",
      "Requirement already satisfied: pyasn1<0.5.0,>=0.4.6 in /home/bob/.local/lib/python3.8/site-packages (from pyasn1-modules>=0.2.1->google-auth<3,>=1.6.3->tensorboard>=2.2.0->pytorch-lightning<2.0.0,>=1.6.3->openpack-torch==0.2.0) (0.4.8)\n",
      "Requirement already satisfied: oauthlib>=3.0.0 in /home/bob/.local/lib/python3.8/site-packages (from requests-oauthlib>=0.7.0->google-auth-oauthlib<0.5,>=0.4.1->tensorboard>=2.2.0->pytorch-lightning<2.0.0,>=1.6.3->openpack-torch==0.2.0) (3.2.0)\n",
      "Building wheels for collected packages: openpack-torch\n",
      "  Building wheel for openpack-torch (pyproject.toml) ... \u001b[?25ldone\n",
      "\u001b[?25h  Created wheel for openpack-torch: filename=openpack_torch-0.2.0-py3-none-any.whl size=18921 sha256=b226d3d2e0c450e1ae9e054d2f747f55358999c8e16f2631ef862697543db04d\n",
      "  Stored in directory: /home/bob/.cache/pip/wheels/9e/aa/9d/cad8d0b1efb54b3f83948f6641caa69c9d6dc2e97c596315e2\n",
      "Successfully built openpack-torch\n",
      "Installing collected packages: openpack-torch\n",
      "  Attempting uninstall: openpack-torch\n",
      "    Found existing installation: openpack-torch 0.2.0\n",
      "    Uninstalling openpack-torch-0.2.0:\n",
      "      Successfully uninstalled openpack-torch-0.2.0\n",
      "Successfully installed openpack-torch-0.2.0\n",
      "\u001b[33mWARNING: There was an error checking the latest version of pip.\u001b[0m\u001b[33m\n",
      "\u001b[0m"
     ]
    }
   ],
   "source": [
    "! cd /content/openpack-torch/ && pip install ."
   ]
  },
  {
   "cell_type": "markdown",
   "id": "d5683dbd-1531-4612-a103-3defe8646096",
   "metadata": {},
   "source": [
    "### 0-2: Download Dataset to  `/content/data`\n",
    "- Souce: https://doi.org/10.5281/zenodo.5909086"
   ]
  },
  {
   "cell_type": "code",
   "execution_count": 2,
   "id": "279aea53-753b-4aa6-a875-2769376877d8",
   "metadata": {},
   "outputs": [
    {
     "name": "stdout",
     "output_type": "stream",
     "text": [
      "INFO:openpack_toolkit.bin.download:Donwload OpenPack dataset from zenodo.\n",
      "INFO:openpack_toolkit.bin.download: - dataset_dir : /content/data/datasets\n",
      "INFO:openpack_toolkit.bin.download: - version     : v0.2.0\n",
      "INFO:openpack_toolkit.bin.download: - streams     : ['kinect-2d-kpt', 'openpack-operations']\n",
      "INFO:openpack_toolkit.download._helpers:== [0/2] kinect-2d-kpt ==\n",
      "INFO:openpack_toolkit.download._helpers:[0/4] U0102\n",
      "INFO:openpack_toolkit.download._helpers:  download https://zenodo.org/record/6697990/files/U0102__kinect__2d-kpt.zip?download=1 ...\n",
      "INFO:openpack_toolkit.download._helpers:  unzip /content/data/datasets/openpack/v0.2.0/zenodo/U0102__kinect__2d-kpt.zip to /content/data/datasets/openpack/v0.2.0 ...\n",
      "INFO:openpack_toolkit.download._helpers:  done!\n",
      "INFO:openpack_toolkit.download._helpers:[1/4] U0103\n",
      "INFO:openpack_toolkit.download._helpers:  download https://zenodo.org/record/6697990/files/U0103__kinect__2d-kpt.zip?download=1 ...\n",
      "INFO:openpack_toolkit.download._helpers:  unzip /content/data/datasets/openpack/v0.2.0/zenodo/U0103__kinect__2d-kpt.zip to /content/data/datasets/openpack/v0.2.0 ...\n",
      "INFO:openpack_toolkit.download._helpers:  done!\n",
      "INFO:openpack_toolkit.download._helpers:[2/4] U0105\n",
      "INFO:openpack_toolkit.download._helpers:  download https://zenodo.org/record/6697990/files/U0105__kinect__2d-kpt.zip?download=1 ...\n",
      "INFO:openpack_toolkit.download._helpers:  unzip /content/data/datasets/openpack/v0.2.0/zenodo/U0105__kinect__2d-kpt.zip to /content/data/datasets/openpack/v0.2.0 ...\n",
      "INFO:openpack_toolkit.download._helpers:  done!\n",
      "INFO:openpack_toolkit.download._helpers:[3/4] U0106\n",
      "INFO:openpack_toolkit.download._helpers:  download https://zenodo.org/record/6697990/files/U0106__kinect__2d-kpt.zip?download=1 ...\n",
      "INFO:openpack_toolkit.download._helpers:  unzip /content/data/datasets/openpack/v0.2.0/zenodo/U0106__kinect__2d-kpt.zip to /content/data/datasets/openpack/v0.2.0 ...\n",
      "INFO:openpack_toolkit.download._helpers:  done!\n",
      "INFO:openpack_toolkit.download._helpers:== [1/2] openpack-operations ==\n",
      "INFO:openpack_toolkit.download._helpers:[0/4] U0102\n",
      "INFO:openpack_toolkit.download._helpers:[1/4] U0103\n",
      "INFO:openpack_toolkit.download._helpers:[2/4] U0105\n",
      "INFO:openpack_toolkit.download._helpers:[3/4] U0106\n"
     ]
    }
   ],
   "source": [
    "! mkdir -p /content/data/datasets/\n",
    "! optk-download -d /content/data/datasets -v v0.2.0 -s kinect-2d-kpt,openpack-operations"
   ]
  },
  {
   "cell_type": "markdown",
   "id": "cb4825be-fe17-4461-b700-2379d0a9dd3f",
   "metadata": {},
   "source": [
    "### 0-3: Import Modules"
   ]
  },
  {
   "cell_type": "code",
   "execution_count": 3,
   "id": "dfe08d0d-820e-4b01-89aa-00a087f3113c",
   "metadata": {},
   "outputs": [],
   "source": [
    "import os\n",
    "import shutil\n",
    "import logging\n",
    "from pathlib import Path\n",
    "from typing import Dict\n",
    "\n",
    "import hydra\n",
    "import numpy as np\n",
    "import openpack_toolkit as optk\n",
    "import openpack_torch as optorch\n",
    "import pandas as pd\n",
    "import pytorch_lightning as pl\n",
    "import torch\n",
    "import matplotlib.pyplot as plt\n",
    "import seaborn as sns\n",
    "from hydra import initialize_config_dir, compose\n",
    "from omegaconf import DictConfig, OmegaConf\n",
    "from openpack_toolkit import OPENPACK_OPERATIONS\n",
    "from openpack_toolkit.codalab.operation_segmentation import (\n",
    "    construct_submission_dict, eval_operation_segmentation_wrapper,\n",
    "    make_submission_zipfile)\n",
    "\n",
    "\n",
    "sns.set(\"notebook\", \"whitegrid\")"
   ]
  },
  {
   "cell_type": "markdown",
   "id": "7b9ab06d-c1fd-4c93-b661-2f385209b45d",
   "metadata": {},
   "source": [
    "### 0-4: Setup Logger"
   ]
  },
  {
   "cell_type": "code",
   "execution_count": 4,
   "id": "4ecc9586-8e12-479e-9d92-2e6c3c183e78",
   "metadata": {},
   "outputs": [
    {
     "name": "stderr",
     "output_type": "stream",
     "text": [
      "2022-06-28 15:45:38 | INFO | __main__ | info\n",
      "2022-06-28 15:45:38 | WARNING | __main__ | warning\n"
     ]
    }
   ],
   "source": [
    "_ = optk.utils.notebook.setup_root_logger()\n",
    "logger = logging.getLogger(__name__)\n",
    "\n",
    "logger.debug(\"debug\")\n",
    "logger.info(\"info\")\n",
    "logger.warning(\"warning\")"
   ]
  },
  {
   "cell_type": "markdown",
   "id": "0b9d75dc-e2e0-459e-8abc-392d2e01941f",
   "metadata": {},
   "source": [
    "## [1] Load Config File"
   ]
  },
  {
   "cell_type": "code",
   "execution_count": 5,
   "id": "7fee1706-a349-489a-9673-3ba4022cf1fa",
   "metadata": {},
   "outputs": [],
   "source": [
    "optorch.configs.register_configs()"
   ]
  },
  {
   "cell_type": "code",
   "execution_count": 13,
   "id": "ad0605ab-a82d-4d36-b25d-2ff706245681",
   "metadata": {
    "tags": []
   },
   "outputs": [
    {
     "name": "stdout",
     "output_type": "stream",
     "text": [
      "dataset:\n",
      "  name: openpack-2d-kpt\n",
      "  streams: null\n",
      "  stream:\n",
      "    schema: KeypointConfig\n",
      "    name: kinect-2d-kpt\n",
      "    description: 2D keypoint extracted by mmpose/hrnet. The model used to extract\n",
      "      keypoints was 2-stage bottom-up model defined in [mmpose/2d_kpt_sview_rgb_vid/posewarper/posetrack18/hrnet_w48_posetrack18_384x288_posewarper_stage2.py](https://github.com/open-mmlab/mmpose/blob/master/configs/body/2d_kpt_sview_rgb_vid/posewarper/posetrack18/hrnet_w48_posetrack18_384x288_posewarper_stage2.py).\n",
      "    super_stream: None\n",
      "    path:\n",
      "      dir: ${path.openpack.rootdir}/${user.name}/kinect/${..category}/${..model}/single\n",
      "      fname: ${session}.json\n",
      "    file_format: null\n",
      "    frame_rate: 15\n",
      "    category: 2d-kpt\n",
      "    model: mmpose-hrnet-w48-posetrack18-384x288-posewarper-stage2\n",
      "    nodes:\n",
      "      0: nose\n",
      "      1: left_eye\n",
      "      2: right_eye\n",
      "      3: left_ear\n",
      "      4: right_ear\n",
      "      5: left_shoulder\n",
      "      6: right_shoulder\n",
      "      7: left_elbow\n",
      "      8: right_elbow\n",
      "      9: left_wrist\n",
      "      10: right_wrist\n",
      "      11: left_hip\n",
      "      12: right_hip\n",
      "      13: left_knee\n",
      "      14: right_knee\n",
      "      15: left_ankle\n",
      "      16: right_ankle\n",
      "  split:\n",
      "    name: pilot-challenge\n",
      "    train:\n",
      "    - - U0102\n",
      "      - S0100\n",
      "    - - U0102\n",
      "      - S0200\n",
      "    - - U0102\n",
      "      - S0300\n",
      "    - - U0102\n",
      "      - S0400\n",
      "    - - U0102\n",
      "      - S0500\n",
      "    - - U0103\n",
      "      - S0100\n",
      "    - - U0103\n",
      "      - S0200\n",
      "    - - U0103\n",
      "      - S0300\n",
      "    - - U0103\n",
      "      - S0400\n",
      "    - - U0103\n",
      "      - S0500\n",
      "    - - U0105\n",
      "      - S0100\n",
      "    - - U0105\n",
      "      - S0200\n",
      "    - - U0105\n",
      "      - S0300\n",
      "    - - U0105\n",
      "      - S0400\n",
      "    - - U0105\n",
      "      - S0500\n",
      "    val:\n",
      "    - - U0106\n",
      "      - S0200\n",
      "    - - U0106\n",
      "      - S0400\n",
      "    test:\n",
      "    - - U0106\n",
      "      - S0100\n",
      "    - - U0106\n",
      "      - S0300\n",
      "    - - U0106\n",
      "      - S0500\n",
      "    submission:\n",
      "    - - U0107\n",
      "      - S0100\n",
      "    - - U0107\n",
      "      - S0200\n",
      "    - - U0107\n",
      "      - S0300\n",
      "    - - U0107\n",
      "      - S0500\n",
      "  annotation:\n",
      "    name: openpack-operations\n",
      "    version: v3.0.0\n",
      "    path:\n",
      "      dir: ${path.openpack.rootdir}/${user.name}/annotation/${..name}\n",
      "      fname: ${session}.csv\n",
      "    file_format: null\n",
      "    classes:\n",
      "      classes:\n",
      "      - id: 100\n",
      "        name: Picking\n",
      "        is_ignore: false\n",
      "      - id: 200\n",
      "        name: RelocateItemLabel\n",
      "        is_ignore: false\n",
      "      - id: 300\n",
      "        name: AssembleBox\n",
      "        is_ignore: false\n",
      "      - id: 400\n",
      "        name: InsertItems\n",
      "        is_ignore: false\n",
      "      - id: 500\n",
      "        name: CloseBox\n",
      "        is_ignore: false\n",
      "      - id: 600\n",
      "        name: AttachBoxLabel\n",
      "        is_ignore: false\n",
      "      - id: 700\n",
      "        name: ScanLabel\n",
      "        is_ignore: false\n",
      "      - id: 800\n",
      "        name: AttachShippingLabel\n",
      "        is_ignore: false\n",
      "      - id: 900\n",
      "        name: PutOnRack\n",
      "        is_ignore: false\n",
      "      - id: 1000\n",
      "        name: Fill-outOrder\n",
      "        is_ignore: false\n",
      "      - id: 8100\n",
      "        name: 'Null'\n",
      "        is_ignore: true\n",
      "datarootdir: /content/data\n",
      "issue: I01-EXP1-V1-nb\n",
      "debug: false\n",
      "mode: train\n",
      "model:\n",
      "  name: STGCN4Seg\n",
      "  Ks: 3\n",
      "  Kt: 9\n",
      "train:\n",
      "  num_workers: 3\n",
      "  batch_size: 8\n",
      "  epochs: 200\n",
      "  window: 900\n",
      "  optimizer:\n",
      "    type: Adam\n",
      "    lr: 0.001\n",
      "    weight_decay: 0.0001\n",
      "  debug:\n",
      "    batch_size: 8\n",
      "    epochs: 5\n",
      "path:\n",
      "  openpack:\n",
      "    version: v0.2.0\n",
      "    rootdir: ${datarootdir}/datasets/openpack/${.version}\n",
      "  logdir:\n",
      "    rootdir: ${datarootdir}/log/${dataset.name}/${model.name}/${issue}\n",
      "    model: ${path.logdir.rootdir}/model.pth\n",
      "    predict: ${path.logdir.rootdir}/pred/{user}-{session}\n",
      "    summary:\n",
      "      test: ${path.logdir.rootdir}/summary.csv\n",
      "      submission: ${path.logdir.rootdir}/summary_submission.csv\n",
      "\n"
     ]
    }
   ],
   "source": [
    "config_dir = Path(\"/content/openpack-torch/examples/st-gcn/configs\")\n",
    "overrides = [\n",
    "    \"mode=train\",\n",
    "    \"issue=I01-EXP1-V1-nb\",\n",
    "    \"debug=false\",\n",
    "    \"train.batch_size=8\",\n",
    "    \"datarootdir=/content/data\",\n",
    "    \"hydra/job_logging=custom\",\n",
    "    \"hydra/hydra_logging=disabled\"\n",
    "]\n",
    "\n",
    "with initialize_config_dir(version_base=None, config_dir=str(config_dir)):\n",
    "    cfg = compose(\n",
    "        config_name=\"operation-segmentation.yaml\",\n",
    "        overrides=overrides,\n",
    "    )\n",
    "print(OmegaConf.to_yaml(cfg))"
   ]
  },
  {
   "cell_type": "markdown",
   "id": "fb224ba0-c400-4838-aa7b-e11df8826acb",
   "metadata": {},
   "source": [
    "## [2] Define Utilities (Pytorch Lightning Modules)"
   ]
  },
  {
   "cell_type": "markdown",
   "id": "2f3463c3-8c6f-4449-a446-a7a9b27fb60f",
   "metadata": {},
   "source": [
    "### 2-1: DataModule\n",
    "\n",
    "Override `optorch.data.OpenPackBaseDataModule` to use Keypoint data."
   ]
  },
  {
   "cell_type": "code",
   "execution_count": 14,
   "id": "ca57cd43-364b-4526-bd6c-830cd9c30b67",
   "metadata": {},
   "outputs": [],
   "source": [
    "class OpenPackKeypointDataModule(optorch.data.OpenPackBaseDataModule):\n",
    "    dataset_class = optorch.data.datasets.OpenPackKeypoint\n",
    "\n",
    "    def get_kwargs_for_datasets(self) -> Dict:\n",
    "        submission = True if self.cfg.mode == \"submission\" else False\n",
    "\n",
    "        kwargs = {\n",
    "            \"debug\": self.cfg.debug,\n",
    "            \"window\": self.cfg.train.window,\n",
    "            \"submission\": submission,\n",
    "        }\n",
    "        return kwargs"
   ]
  },
  {
   "cell_type": "markdown",
   "id": "e7bee7aa-f7c2-4f63-a43b-2513e09f7ab7",
   "metadata": {},
   "source": [
    "### 2-2: Lightning Module"
   ]
  },
  {
   "cell_type": "code",
   "execution_count": 17,
   "id": "3f68f6a2-9107-4291-9feb-a61d28ab3821",
   "metadata": {},
   "outputs": [],
   "source": [
    "class STGCN4SegLM(optorch.lightning.BaseLightningModule):\n",
    "\n",
    "    def init_model(self, cfg: DictConfig) -> torch.nn.Module:\n",
    "        in_ch = 2\n",
    "        Ks = cfg.model.Ks\n",
    "        A = optorch.models.keypoint.get_adjacency_matrix(\n",
    "            layout=\"MSCOCO\", hop_size=Ks - 1)\n",
    "        \n",
    "        model = optorch.models.keypoint.STGCN4Seg(\n",
    "            in_ch,\n",
    "            len(OPENPACK_OPERATIONS),\n",
    "            Ks=cfg.model.Ks,\n",
    "            Kt=cfg.model.Kt,\n",
    "            A=A,\n",
    "        )\n",
    "        return model\n",
    "\n",
    "    def training_step(self, batch: Dict, batch_idx: int) -> Dict:\n",
    "        x = batch[\"x\"].to(device=self.device, dtype=torch.float)\n",
    "        t = batch[\"t\"].to(device=self.device, dtype=torch.long)\n",
    "        y_hat = self(x).squeeze(3)\n",
    "\n",
    "        loss = self.criterion(y_hat, t)\n",
    "        acc = self.calc_accuracy(y_hat, t)\n",
    "        return {\"loss\": loss, \"acc\": acc}\n",
    "\n",
    "    def test_step(self, batch: Dict, batch_idx: int) -> Dict:\n",
    "        x = batch[\"x\"].to(device=self.device, dtype=torch.float)\n",
    "        t = batch[\"t\"].to(device=self.device, dtype=torch.long)\n",
    "        ts_unix = batch[\"ts\"]\n",
    "\n",
    "        y_hat = self(x).squeeze(3)\n",
    "\n",
    "        outputs = dict(t=t, y=y_hat, unixtime=ts_unix)\n",
    "        return outputs"
   ]
  },
  {
   "cell_type": "code",
   "execution_count": null,
   "id": "656308fb-20aa-4254-91b2-bf91aebc1d4d",
   "metadata": {},
   "outputs": [],
   "source": []
  },
  {
   "cell_type": "markdown",
   "id": "3901ae78-aed8-46a6-95d1-48f84f31823d",
   "metadata": {},
   "source": [
    "## [3] Train U-Net"
   ]
  },
  {
   "cell_type": "markdown",
   "id": "46bcf301-24e3-4c11-883d-c3354114bf69",
   "metadata": {},
   "source": [
    "### 3-1: Initialize U-Net Model and DataLoader."
   ]
  },
  {
   "cell_type": "code",
   "execution_count": 18,
   "id": "f8d63c1a-20ce-4581-8e79-7826e2afd083",
   "metadata": {},
   "outputs": [],
   "source": [
    "device = torch.device(\"cuda\")\n",
    "logdir = Path.cwd()\n",
    "logger.debug(f\"logdir = {logdir}\")\n",
    "\n",
    "datamodule = OpenPackKeypointDataModule(cfg)\n",
    "plmodel = STGCN4SegLM(cfg).to(dtype=torch.float, device=device)"
   ]
  },
  {
   "cell_type": "code",
   "execution_count": 19,
   "id": "c44f0a87-ca40-40d8-a6ee-16d9c38e0c1c",
   "metadata": {},
   "outputs": [
    {
     "data": {
      "text/plain": [
       "STGCN4SegLM(\n",
       "  (net): STGCN4Seg(\n",
       "    (bn): BatchNorm1d(34, eps=1e-05, momentum=0.1, affine=True, track_running_stats=True)\n",
       "    (stgc1): STConvBlock(\n",
       "      (sgc): SpatialGraphConvLayer(\n",
       "        (conv): Conv2d(2, 96, kernel_size=(1, 1), stride=(1, 1))\n",
       "      )\n",
       "      (tgc): TemporalConvLayer(\n",
       "        (block): Sequential(\n",
       "          (0): BatchNorm2d(32, eps=1e-05, momentum=0.1, affine=True, track_running_stats=True)\n",
       "          (1): ReLU()\n",
       "          (2): Dropout(p=0.5, inplace=False)\n",
       "          (3): Conv2d(32, 32, kernel_size=(9, 1), stride=(1, 1), padding=(4, 0))\n",
       "          (4): BatchNorm2d(32, eps=1e-05, momentum=0.1, affine=True, track_running_stats=True)\n",
       "          (5): ReLU()\n",
       "        )\n",
       "      )\n",
       "    )\n",
       "    (stgc2): STConvBlock(\n",
       "      (sgc): SpatialGraphConvLayer(\n",
       "        (conv): Conv2d(32, 96, kernel_size=(1, 1), stride=(1, 1))\n",
       "      )\n",
       "      (tgc): TemporalConvLayer(\n",
       "        (block): Sequential(\n",
       "          (0): BatchNorm2d(32, eps=1e-05, momentum=0.1, affine=True, track_running_stats=True)\n",
       "          (1): ReLU()\n",
       "          (2): Dropout(p=0.5, inplace=False)\n",
       "          (3): Conv2d(32, 32, kernel_size=(9, 1), stride=(1, 1), padding=(4, 0))\n",
       "          (4): BatchNorm2d(32, eps=1e-05, momentum=0.1, affine=True, track_running_stats=True)\n",
       "          (5): ReLU()\n",
       "        )\n",
       "      )\n",
       "    )\n",
       "    (stgc3): STConvBlock(\n",
       "      (sgc): SpatialGraphConvLayer(\n",
       "        (conv): Conv2d(32, 96, kernel_size=(1, 1), stride=(1, 1))\n",
       "      )\n",
       "      (tgc): TemporalConvLayer(\n",
       "        (block): Sequential(\n",
       "          (0): BatchNorm2d(32, eps=1e-05, momentum=0.1, affine=True, track_running_stats=True)\n",
       "          (1): ReLU()\n",
       "          (2): Dropout(p=0.5, inplace=False)\n",
       "          (3): Conv2d(32, 32, kernel_size=(9, 1), stride=(1, 1), padding=(4, 0))\n",
       "          (4): BatchNorm2d(32, eps=1e-05, momentum=0.1, affine=True, track_running_stats=True)\n",
       "          (5): ReLU()\n",
       "        )\n",
       "      )\n",
       "    )\n",
       "    (stgc4): STConvBlock(\n",
       "      (sgc): SpatialGraphConvLayer(\n",
       "        (conv): Conv2d(32, 192, kernel_size=(1, 1), stride=(1, 1))\n",
       "      )\n",
       "      (tgc): TemporalConvLayer(\n",
       "        (block): Sequential(\n",
       "          (0): BatchNorm2d(64, eps=1e-05, momentum=0.1, affine=True, track_running_stats=True)\n",
       "          (1): ReLU()\n",
       "          (2): Dropout(p=0.5, inplace=False)\n",
       "          (3): Conv2d(64, 64, kernel_size=(9, 1), stride=(1, 1), padding=(4, 0))\n",
       "          (4): BatchNorm2d(64, eps=1e-05, momentum=0.1, affine=True, track_running_stats=True)\n",
       "          (5): ReLU()\n",
       "        )\n",
       "      )\n",
       "    )\n",
       "    (stgc5): STConvBlock(\n",
       "      (sgc): SpatialGraphConvLayer(\n",
       "        (conv): Conv2d(64, 192, kernel_size=(1, 1), stride=(1, 1))\n",
       "      )\n",
       "      (tgc): TemporalConvLayer(\n",
       "        (block): Sequential(\n",
       "          (0): BatchNorm2d(64, eps=1e-05, momentum=0.1, affine=True, track_running_stats=True)\n",
       "          (1): ReLU()\n",
       "          (2): Dropout(p=0.5, inplace=False)\n",
       "          (3): Conv2d(64, 64, kernel_size=(9, 1), stride=(1, 1), padding=(4, 0))\n",
       "          (4): BatchNorm2d(64, eps=1e-05, momentum=0.1, affine=True, track_running_stats=True)\n",
       "          (5): ReLU()\n",
       "        )\n",
       "      )\n",
       "    )\n",
       "    (stgc6): STConvBlock(\n",
       "      (sgc): SpatialGraphConvLayer(\n",
       "        (conv): Conv2d(64, 192, kernel_size=(1, 1), stride=(1, 1))\n",
       "      )\n",
       "      (tgc): TemporalConvLayer(\n",
       "        (block): Sequential(\n",
       "          (0): BatchNorm2d(64, eps=1e-05, momentum=0.1, affine=True, track_running_stats=True)\n",
       "          (1): ReLU()\n",
       "          (2): Dropout(p=0.5, inplace=False)\n",
       "          (3): Conv2d(64, 64, kernel_size=(9, 1), stride=(1, 1), padding=(4, 0))\n",
       "          (4): BatchNorm2d(64, eps=1e-05, momentum=0.1, affine=True, track_running_stats=True)\n",
       "          (5): ReLU()\n",
       "        )\n",
       "      )\n",
       "    )\n",
       "    (stgc7): STConvBlock(\n",
       "      (sgc): SpatialGraphConvLayer(\n",
       "        (conv): Conv2d(64, 192, kernel_size=(1, 1), stride=(1, 1))\n",
       "      )\n",
       "      (tgc): TemporalConvLayer(\n",
       "        (block): Sequential(\n",
       "          (0): BatchNorm2d(64, eps=1e-05, momentum=0.1, affine=True, track_running_stats=True)\n",
       "          (1): ReLU()\n",
       "          (2): Dropout(p=0.5, inplace=False)\n",
       "          (3): Conv2d(64, 64, kernel_size=(9, 1), stride=(1, 1), padding=(4, 0))\n",
       "          (4): BatchNorm2d(64, eps=1e-05, momentum=0.1, affine=True, track_running_stats=True)\n",
       "          (5): ReLU()\n",
       "        )\n",
       "      )\n",
       "    )\n",
       "    (stgc8): STConvBlock(\n",
       "      (sgc): SpatialGraphConvLayer(\n",
       "        (conv): Conv2d(64, 192, kernel_size=(1, 1), stride=(1, 1))\n",
       "      )\n",
       "      (tgc): TemporalConvLayer(\n",
       "        (block): Sequential(\n",
       "          (0): BatchNorm2d(64, eps=1e-05, momentum=0.1, affine=True, track_running_stats=True)\n",
       "          (1): ReLU()\n",
       "          (2): Dropout(p=0.5, inplace=False)\n",
       "          (3): Conv2d(64, 64, kernel_size=(9, 1), stride=(1, 1), padding=(4, 0))\n",
       "          (4): BatchNorm2d(64, eps=1e-05, momentum=0.1, affine=True, track_running_stats=True)\n",
       "          (5): ReLU()\n",
       "        )\n",
       "      )\n",
       "    )\n",
       "    (stgc9): STConvBlock(\n",
       "      (sgc): SpatialGraphConvLayer(\n",
       "        (conv): Conv2d(64, 192, kernel_size=(1, 1), stride=(1, 1))\n",
       "      )\n",
       "      (tgc): TemporalConvLayer(\n",
       "        (block): Sequential(\n",
       "          (0): BatchNorm2d(64, eps=1e-05, momentum=0.1, affine=True, track_running_stats=True)\n",
       "          (1): ReLU()\n",
       "          (2): Dropout(p=0.5, inplace=False)\n",
       "          (3): Conv2d(64, 64, kernel_size=(9, 1), stride=(1, 1), padding=(4, 0))\n",
       "          (4): BatchNorm2d(64, eps=1e-05, momentum=0.1, affine=True, track_running_stats=True)\n",
       "          (5): ReLU()\n",
       "        )\n",
       "      )\n",
       "    )\n",
       "    (stgc10): STConvBlock(\n",
       "      (sgc): SpatialGraphConvLayer(\n",
       "        (conv): Conv2d(64, 192, kernel_size=(1, 1), stride=(1, 1))\n",
       "      )\n",
       "      (tgc): TemporalConvLayer(\n",
       "        (block): Sequential(\n",
       "          (0): BatchNorm2d(64, eps=1e-05, momentum=0.1, affine=True, track_running_stats=True)\n",
       "          (1): ReLU()\n",
       "          (2): Dropout(p=0.5, inplace=False)\n",
       "          (3): Conv2d(64, 64, kernel_size=(9, 1), stride=(1, 1), padding=(4, 0))\n",
       "          (4): BatchNorm2d(64, eps=1e-05, momentum=0.1, affine=True, track_running_stats=True)\n",
       "          (5): ReLU()\n",
       "        )\n",
       "      )\n",
       "    )\n",
       "    (stgc11): STConvBlock(\n",
       "      (sgc): SpatialGraphConvLayer(\n",
       "        (conv): Conv2d(64, 192, kernel_size=(1, 1), stride=(1, 1))\n",
       "      )\n",
       "      (tgc): TemporalConvLayer(\n",
       "        (block): Sequential(\n",
       "          (0): BatchNorm2d(64, eps=1e-05, momentum=0.1, affine=True, track_running_stats=True)\n",
       "          (1): ReLU()\n",
       "          (2): Dropout(p=0.5, inplace=False)\n",
       "          (3): Conv2d(64, 64, kernel_size=(9, 1), stride=(1, 1), padding=(4, 0))\n",
       "          (4): BatchNorm2d(64, eps=1e-05, momentum=0.1, affine=True, track_running_stats=True)\n",
       "          (5): ReLU()\n",
       "        )\n",
       "      )\n",
       "    )\n",
       "    (stgc12): STConvBlock(\n",
       "      (sgc): SpatialGraphConvLayer(\n",
       "        (conv): Conv2d(64, 192, kernel_size=(1, 1), stride=(1, 1))\n",
       "      )\n",
       "      (tgc): TemporalConvLayer(\n",
       "        (block): Sequential(\n",
       "          (0): BatchNorm2d(64, eps=1e-05, momentum=0.1, affine=True, track_running_stats=True)\n",
       "          (1): ReLU()\n",
       "          (2): Dropout(p=0.5, inplace=False)\n",
       "          (3): Conv2d(64, 64, kernel_size=(9, 1), stride=(1, 1), padding=(4, 0))\n",
       "          (4): BatchNorm2d(64, eps=1e-05, momentum=0.1, affine=True, track_running_stats=True)\n",
       "          (5): ReLU()\n",
       "        )\n",
       "      )\n",
       "    )\n",
       "    (fc): Conv2d(64, 11, kernel_size=(1, 17), stride=(1, 1))\n",
       "  )\n",
       "  (criterion): CrossEntropyLoss()\n",
       ")"
      ]
     },
     "execution_count": 19,
     "metadata": {},
     "output_type": "execute_result"
    }
   ],
   "source": [
    "plmodel"
   ]
  },
  {
   "cell_type": "markdown",
   "id": "cdac454d-d972-446e-9e3b-24da61ffac60",
   "metadata": {},
   "source": [
    "### 3-2: Initialize Trainer"
   ]
  },
  {
   "cell_type": "code",
   "execution_count": 20,
   "id": "04df6672-0398-4daa-b38e-5b04e428db63",
   "metadata": {},
   "outputs": [
    {
     "name": "stderr",
     "output_type": "stream",
     "text": [
      "GPU available: True, used: True\n",
      "TPU available: False, using: 0 TPU cores\n",
      "IPU available: False, using: 0 IPUs\n",
      "HPU available: False, using: 0 HPUs\n"
     ]
    }
   ],
   "source": [
    "# num_epoch = cfg.train.debug.epochs if cfg.debug else cfg.train.epochs\n",
    "num_epoch = 10\n",
    "\n",
    "checkpoint_callback = pl.callbacks.ModelCheckpoint(\n",
    "    save_top_k=0,\n",
    "    save_last=True,\n",
    "    monitor=None,\n",
    ")\n",
    "\n",
    "trainer = pl.Trainer(\n",
    "    gpus=[0],\n",
    "    max_epochs=num_epoch,\n",
    "    logger=False,  # disable logging module\n",
    "    default_root_dir=logdir,\n",
    "    enable_progress_bar=False,  # disable progress bar\n",
    "    enable_checkpointing=True,\n",
    "    callbacks=[checkpoint_callback],\n",
    ")\n",
    "logger.debug(f\"logdir = {logdir}\")"
   ]
  },
  {
   "cell_type": "markdown",
   "id": "75623893-5561-442c-b7b9-6612e4781651",
   "metadata": {},
   "source": [
    "### 3-3: Start training!"
   ]
  },
  {
   "cell_type": "code",
   "execution_count": 21,
   "id": "ccc3b111-16b1-41a1-b8a0-60112611968a",
   "metadata": {},
   "outputs": [
    {
     "name": "stderr",
     "output_type": "stream",
     "text": [
      "2022-06-28 16:55:16 | INFO | __main__ | Start training for 10 epochs.\n",
      "2022-06-28 16:55:42 | WARNING | openpack_torch.data.datasets | No preprocessing is applied.\n",
      "2022-06-28 16:55:44 | WARNING | openpack_torch.data.datasets | No preprocessing is applied.\n",
      "2022-06-28 16:55:46 | WARNING | openpack_torch.data.datasets | No preprocessing is applied.\n",
      "2022-06-28 16:55:46 | INFO | openpack_torch.data.datamodule | dataset[train]: OpenPackKeypoint(index=580, num_sequence=15)\n",
      "2022-06-28 16:55:46 | INFO | openpack_torch.data.datamodule | dataset[val]: {'U0106-S0200': <openpack_torch.data.datasets.OpenPackKeypoint object at 0x7f343e042130>, 'U0106-S0400': <openpack_torch.data.datasets.OpenPackKeypoint object at 0x7f343e0247c0>}\n",
      "2022-06-28 16:55:46 | INFO | openpack_torch.data.datamodule | dataset[test]: None\n",
      "2022-06-28 16:55:46 | INFO | openpack_torch.data.datamodule | dataset[submission]: None\n",
      "LOCAL_RANK: 0 - CUDA_VISIBLE_DEVICES: [0]\n",
      "\n",
      "  | Name      | Type             | Params\n",
      "-----------------------------------------------\n",
      "0 | net       | STGCN4Seg        | 498 K \n",
      "1 | criterion | CrossEntropyLoss | 0     \n",
      "-----------------------------------------------\n",
      "498 K     Trainable params\n",
      "0         Non-trainable params\n",
      "498 K     Total params\n",
      "1.992     Total estimated model params size (MB)\n",
      "2022-06-28 16:55:47 | INFO | openpack_torch.lightning | Epoch[000] TRAIN: loss=-1.0000, acc=-1.0000 | VAL: loss= 2.3959, acc= 0.0921\n",
      "2022-06-28 16:56:05 | INFO | openpack_torch.lightning | Epoch[000] TRAIN: loss=-1.0000, acc=-1.0000 | VAL: loss= 2.3730, acc= 0.1800\n",
      "2022-06-28 16:56:23 | INFO | openpack_torch.lightning | Epoch[001] TRAIN: loss= 2.1150, acc= 0.2092 | VAL: loss= 2.0234, acc= 0.2890\n",
      "2022-06-28 16:56:40 | INFO | openpack_torch.lightning | Epoch[002] TRAIN: loss= 1.8945, acc= 0.2806 | VAL: loss= 2.1752, acc= 0.2028\n",
      "2022-06-28 16:56:58 | INFO | openpack_torch.lightning | Epoch[003] TRAIN: loss= 1.7909, acc= 0.3023 | VAL: loss= 1.9985, acc= 0.3000\n",
      "2022-06-28 16:57:15 | INFO | openpack_torch.lightning | Epoch[004] TRAIN: loss= 1.6725, acc= 0.3523 | VAL: loss= 1.9902, acc= 0.2749\n",
      "2022-06-28 16:57:33 | INFO | openpack_torch.lightning | Epoch[005] TRAIN: loss= 1.5881, acc= 0.4025 | VAL: loss= 2.5931, acc= 0.4245\n",
      "2022-06-28 16:57:50 | INFO | openpack_torch.lightning | Epoch[006] TRAIN: loss= 1.5205, acc= 0.4485 | VAL: loss= 1.4677, acc= 0.4778\n",
      "2022-06-28 16:58:08 | INFO | openpack_torch.lightning | Epoch[007] TRAIN: loss= 1.3997, acc= 0.4989 | VAL: loss= 1.7055, acc= 0.4537\n",
      "2022-06-28 16:58:26 | INFO | openpack_torch.lightning | Epoch[008] TRAIN: loss= 1.2928, acc= 0.5641 | VAL: loss= 1.5339, acc= 0.4755\n",
      "2022-06-28 16:58:44 | INFO | openpack_torch.lightning | Epoch[009] TRAIN: loss= 1.2366, acc= 0.5911 | VAL: loss= 1.7106, acc= 0.4189\n",
      "2022-06-28 16:58:44 | INFO | __main__ | Finish training!\n"
     ]
    }
   ],
   "source": [
    "logger.info(f\"Start training for {num_epoch} epochs.\")\n",
    "trainer.fit(plmodel, datamodule)\n",
    "logger.info(\"Finish training!\")"
   ]
  },
  {
   "cell_type": "markdown",
   "id": "c5132389-23b1-4803-abc1-881028061e72",
   "metadata": {},
   "source": [
    "### 3-4: Plot Training Curve"
   ]
  },
  {
   "cell_type": "code",
   "execution_count": 22,
   "id": "5fe6a607-6921-4440-a03b-03f35b72ff2b",
   "metadata": {},
   "outputs": [],
   "source": [
    "df = pd.concat([\n",
    "    pd.DataFrame(plmodel.log[\"train\"]),\n",
    "    pd.DataFrame(plmodel.log[\"val\"]),\n",
    "],axis=1,)\n",
    "df.index.name = \"epoch\""
   ]
  },
  {
   "cell_type": "code",
   "execution_count": 23,
   "id": "65b6eb10-9584-483b-8a44-deb539528f90",
   "metadata": {},
   "outputs": [
    {
     "data": {
      "text/html": [
       "<div>\n",
       "<style scoped>\n",
       "    .dataframe tbody tr th:only-of-type {\n",
       "        vertical-align: middle;\n",
       "    }\n",
       "\n",
       "    .dataframe tbody tr th {\n",
       "        vertical-align: top;\n",
       "    }\n",
       "\n",
       "    .dataframe thead th {\n",
       "        text-align: right;\n",
       "    }\n",
       "</style>\n",
       "<table border=\"1\" class=\"dataframe\">\n",
       "  <thead>\n",
       "    <tr style=\"text-align: right;\">\n",
       "      <th></th>\n",
       "      <th>train/loss</th>\n",
       "      <th>train/acc</th>\n",
       "      <th>val/loss</th>\n",
       "      <th>val/acc</th>\n",
       "    </tr>\n",
       "    <tr>\n",
       "      <th>epoch</th>\n",
       "      <th></th>\n",
       "      <th></th>\n",
       "      <th></th>\n",
       "      <th></th>\n",
       "    </tr>\n",
       "  </thead>\n",
       "  <tbody>\n",
       "    <tr>\n",
       "      <th>0</th>\n",
       "      <td>2.115029</td>\n",
       "      <td>0.209222</td>\n",
       "      <td>2.395897</td>\n",
       "      <td>0.092094</td>\n",
       "    </tr>\n",
       "    <tr>\n",
       "      <th>1</th>\n",
       "      <td>1.894541</td>\n",
       "      <td>0.280644</td>\n",
       "      <td>2.373005</td>\n",
       "      <td>0.179962</td>\n",
       "    </tr>\n",
       "    <tr>\n",
       "      <th>2</th>\n",
       "      <td>1.790907</td>\n",
       "      <td>0.302324</td>\n",
       "      <td>2.023422</td>\n",
       "      <td>0.288978</td>\n",
       "    </tr>\n",
       "    <tr>\n",
       "      <th>3</th>\n",
       "      <td>1.672486</td>\n",
       "      <td>0.352319</td>\n",
       "      <td>2.175202</td>\n",
       "      <td>0.202848</td>\n",
       "    </tr>\n",
       "    <tr>\n",
       "      <th>4</th>\n",
       "      <td>1.588143</td>\n",
       "      <td>0.402461</td>\n",
       "      <td>1.998526</td>\n",
       "      <td>0.300006</td>\n",
       "    </tr>\n",
       "  </tbody>\n",
       "</table>\n",
       "</div>"
      ],
      "text/plain": [
       "       train/loss  train/acc  val/loss   val/acc\n",
       "epoch                                           \n",
       "0        2.115029   0.209222  2.395897  0.092094\n",
       "1        1.894541   0.280644  2.373005  0.179962\n",
       "2        1.790907   0.302324  2.023422  0.288978\n",
       "3        1.672486   0.352319  2.175202  0.202848\n",
       "4        1.588143   0.402461  1.998526  0.300006"
      ]
     },
     "execution_count": 23,
     "metadata": {},
     "output_type": "execute_result"
    }
   ],
   "source": [
    "df.head()"
   ]
  },
  {
   "cell_type": "markdown",
   "id": "2eab3914-ef01-4115-bd75-2d0030f0c5f8",
   "metadata": {},
   "source": [
    "Training Log"
   ]
  },
  {
   "cell_type": "code",
   "execution_count": 24,
   "id": "61b0b6ad-9a6b-4264-8abd-8db8dcf477e1",
   "metadata": {},
   "outputs": [
    {
     "data": {
      "image/png": "[encoded data removed]",
      "text/plain": [
       "<Figure size 432x288 with 1 Axes>"
      ]
     },
     "metadata": {
      "needs_background": "light"
     },
     "output_type": "display_data"
    }
   ],
   "source": [
    "df[[\"train/loss\", \"val/loss\"]].plot()\n",
    "plt.show()"
   ]
  },
  {
   "cell_type": "markdown",
   "id": "c752adb3-240d-4d2f-9b4f-fc0352f51a84",
   "metadata": {},
   "source": [
    "Test Log"
   ]
  },
  {
   "cell_type": "code",
   "execution_count": 25,
   "id": "3b1a002a-2ff5-4bf6-a1b2-763d95bbaf08",
   "metadata": {},
   "outputs": [
    {
     "data": {
      "image/png": "[encoded data removed]",
      "text/plain": [
       "<Figure size 432x288 with 1 Axes>"
      ]
     },
     "metadata": {
      "needs_background": "light"
     },
     "output_type": "display_data"
    }
   ],
   "source": [
    "df[[\"train/acc\", \"val/acc\"]].plot()\n",
    "plt.show()"
   ]
  },
  {
   "cell_type": "code",
   "execution_count": null,
   "id": "776cf034-fef1-4ede-be56-2c6d97189e15",
   "metadata": {},
   "outputs": [],
   "source": []
  },
  {
   "cell_type": "markdown",
   "id": "6c7ed83f-6e92-4740-8766-7599d65643cd",
   "metadata": {},
   "source": [
    "## [4] Test"
   ]
  },
  {
   "cell_type": "markdown",
   "id": "d7101f3f-1ff5-442c-bd4a-fd82ad5c7e13",
   "metadata": {},
   "source": [
    "### 4-1: Get prediction results for each sequences."
   ]
  },
  {
   "cell_type": "code",
   "execution_count": 26,
   "id": "6ec859ea-fc23-4f48-a611-8253523ad245",
   "metadata": {},
   "outputs": [
    {
     "name": "stderr",
     "output_type": "stream",
     "text": [
      "2022-06-28 16:58:47 | WARNING | openpack_torch.data.datasets | No preprocessing is applied.\n",
      "2022-06-28 16:58:49 | WARNING | openpack_torch.data.datasets | No preprocessing is applied.\n",
      "2022-06-28 16:58:50 | WARNING | openpack_torch.data.datasets | No preprocessing is applied.\n",
      "2022-06-28 16:58:50 | INFO | openpack_torch.data.datamodule | dataset[train]: None\n",
      "2022-06-28 16:58:50 | INFO | openpack_torch.data.datamodule | dataset[val]: None\n",
      "2022-06-28 16:58:50 | INFO | openpack_torch.data.datamodule | dataset[test]: {'U0106-S0100': <openpack_torch.data.datasets.OpenPackKeypoint object at 0x7f35ca109f10>, 'U0106-S0300': <openpack_torch.data.datasets.OpenPackKeypoint object at 0x7f34403527c0>, 'U0106-S0500': <openpack_torch.data.datasets.OpenPackKeypoint object at 0x7f343e0ad790>}\n",
      "2022-06-28 16:58:50 | INFO | openpack_torch.data.datamodule | dataset[submission]: None\n",
      "2022-06-28 16:58:50 | INFO | __main__ | test on U0106-S0100\n",
      "2022-06-28 16:58:52 | WARNING | openpack_torch.data.datasets | No preprocessing is applied.\n",
      "2022-06-28 16:58:54 | WARNING | openpack_torch.data.datasets | No preprocessing is applied.\n",
      "2022-06-28 16:58:55 | WARNING | openpack_torch.data.datasets | No preprocessing is applied.\n",
      "2022-06-28 16:58:55 | INFO | openpack_torch.data.datamodule | dataset[train]: None\n",
      "2022-06-28 16:58:55 | INFO | openpack_torch.data.datamodule | dataset[val]: None\n",
      "2022-06-28 16:58:55 | INFO | openpack_torch.data.datamodule | dataset[test]: {'U0106-S0100': <openpack_torch.data.datasets.OpenPackKeypoint object at 0x7f343e0addc0>, 'U0106-S0300': <openpack_torch.data.datasets.OpenPackKeypoint object at 0x7f34403fb160>, 'U0106-S0500': <openpack_torch.data.datasets.OpenPackKeypoint object at 0x7f34405613a0>}\n",
      "2022-06-28 16:58:55 | INFO | openpack_torch.data.datamodule | dataset[submission]: None\n",
      "LOCAL_RANK: 0 - CUDA_VISIBLE_DEVICES: [0]\n",
      "2022-06-28 16:58:56 | INFO | __main__ | save t[shape=(56, 900)] to /content/data/log/openpack-2d-kpt/STGCN4Seg/I01-EXP1-V1-nb/pred/U0106-S0100/t.npy\n",
      "2022-06-28 16:58:56 | INFO | __main__ | save y[shape=(56, 11, 900)] to /content/data/log/openpack-2d-kpt/STGCN4Seg/I01-EXP1-V1-nb/pred/U0106-S0100/y.npy\n",
      "2022-06-28 16:58:56 | INFO | __main__ | save unixtime[shape=(56, 900)] to /content/data/log/openpack-2d-kpt/STGCN4Seg/I01-EXP1-V1-nb/pred/U0106-S0100/unixtime.npy\n",
      "2022-06-28 16:58:56 | INFO | __main__ | test on U0106-S0300\n",
      "2022-06-28 16:58:58 | WARNING | openpack_torch.data.datasets | No preprocessing is applied.\n",
      "2022-06-28 16:59:00 | WARNING | openpack_torch.data.datasets | No preprocessing is applied.\n",
      "2022-06-28 16:59:01 | WARNING | openpack_torch.data.datasets | No preprocessing is applied.\n",
      "2022-06-28 16:59:01 | INFO | openpack_torch.data.datamodule | dataset[train]: None\n",
      "2022-06-28 16:59:01 | INFO | openpack_torch.data.datamodule | dataset[val]: None\n",
      "2022-06-28 16:59:01 | INFO | openpack_torch.data.datamodule | dataset[test]: {'U0106-S0100': <openpack_torch.data.datasets.OpenPackKeypoint object at 0x7f343e111580>, 'U0106-S0300': <openpack_torch.data.datasets.OpenPackKeypoint object at 0x7f343e111f10>, 'U0106-S0500': <openpack_torch.data.datasets.OpenPackKeypoint object at 0x7f343e111040>}\n",
      "2022-06-28 16:59:01 | INFO | openpack_torch.data.datamodule | dataset[submission]: None\n",
      "LOCAL_RANK: 0 - CUDA_VISIBLE_DEVICES: [0]\n",
      "2022-06-28 16:59:02 | INFO | __main__ | save t[shape=(41, 900)] to /content/data/log/openpack-2d-kpt/STGCN4Seg/I01-EXP1-V1-nb/pred/U0106-S0300/t.npy\n",
      "2022-06-28 16:59:02 | INFO | __main__ | save y[shape=(41, 11, 900)] to /content/data/log/openpack-2d-kpt/STGCN4Seg/I01-EXP1-V1-nb/pred/U0106-S0300/y.npy\n",
      "2022-06-28 16:59:02 | INFO | __main__ | save unixtime[shape=(41, 900)] to /content/data/log/openpack-2d-kpt/STGCN4Seg/I01-EXP1-V1-nb/pred/U0106-S0300/unixtime.npy\n",
      "2022-06-28 16:59:02 | INFO | __main__ | test on U0106-S0500\n",
      "2022-06-28 16:59:05 | WARNING | openpack_torch.data.datasets | No preprocessing is applied.\n",
      "2022-06-28 16:59:06 | WARNING | openpack_torch.data.datasets | No preprocessing is applied.\n",
      "2022-06-28 16:59:08 | WARNING | openpack_torch.data.datasets | No preprocessing is applied.\n",
      "2022-06-28 16:59:08 | INFO | openpack_torch.data.datamodule | dataset[train]: None\n",
      "2022-06-28 16:59:08 | INFO | openpack_torch.data.datamodule | dataset[val]: None\n",
      "2022-06-28 16:59:08 | INFO | openpack_torch.data.datamodule | dataset[test]: {'U0106-S0100': <openpack_torch.data.datasets.OpenPackKeypoint object at 0x7f34401fd070>, 'U0106-S0300': <openpack_torch.data.datasets.OpenPackKeypoint object at 0x7f34402a4ee0>, 'U0106-S0500': <openpack_torch.data.datasets.OpenPackKeypoint object at 0x7f34402a7430>}\n",
      "2022-06-28 16:59:08 | INFO | openpack_torch.data.datamodule | dataset[submission]: None\n",
      "LOCAL_RANK: 0 - CUDA_VISIBLE_DEVICES: [0]\n",
      "2022-06-28 16:59:08 | INFO | __main__ | save t[shape=(21, 900)] to /content/data/log/openpack-2d-kpt/STGCN4Seg/I01-EXP1-V1-nb/pred/U0106-S0500/t.npy\n",
      "2022-06-28 16:59:08 | INFO | __main__ | save y[shape=(21, 11, 900)] to /content/data/log/openpack-2d-kpt/STGCN4Seg/I01-EXP1-V1-nb/pred/U0106-S0500/y.npy\n",
      "2022-06-28 16:59:08 | INFO | __main__ | save unixtime[shape=(21, 900)] to /content/data/log/openpack-2d-kpt/STGCN4Seg/I01-EXP1-V1-nb/pred/U0106-S0500/unixtime.npy\n"
     ]
    }
   ],
   "source": [
    "datamodule.setup(\"test\")\n",
    "dataloaders = datamodule.test_dataloader()\n",
    "split = cfg.dataset.split.test\n",
    "\n",
    "\n",
    "outputs = dict()\n",
    "for i, dataloader in enumerate(dataloaders):\n",
    "    user, session = split[i]\n",
    "    logger.info(f\"test on {user}-{session}\")\n",
    "\n",
    "    trainer.test(plmodel, dataloader)\n",
    "\n",
    "    # save model outputs\n",
    "    pred_dir = Path(\n",
    "        cfg.path.logdir.predict.format(user=user, session=session)\n",
    "    )\n",
    "    pred_dir.mkdir(parents=True, exist_ok=True)\n",
    "\n",
    "    for key, arr in plmodel.test_results.items():\n",
    "        path = Path(pred_dir, f\"{key}.npy\")\n",
    "        np.save(path, arr)\n",
    "        logger.info(f\"save {key}[shape={arr.shape}] to {path}\")\n",
    "\n",
    "    outputs[f\"{user}-{session}\"] = {\n",
    "        \"t_idx\": plmodel.test_results.get(\"t\"),\n",
    "        \"y\": plmodel.test_results.get(\"y\"),\n",
    "        \"unixtime\": plmodel.test_results.get(\"unixtime\"),\n",
    "    }"
   ]
  },
  {
   "cell_type": "markdown",
   "id": "5780dc2a-e86c-4110-a2ef-3ee5d7951504",
   "metadata": {},
   "source": [
    "### 4-2: Evaluate"
   ]
  },
  {
   "cell_type": "code",
   "execution_count": 27,
   "id": "c61ad2c2-d92c-4161-9a0c-62677379ec8b",
   "metadata": {},
   "outputs": [
    {
     "ename": "AssertionError",
     "evalue": "values in array are expected to be monotonically increasing, but the minium step is -3278000.",
     "output_type": "error",
     "traceback": [
      "\u001b[0;31m---------------------------------------------------------------------------\u001b[0m",
      "\u001b[0;31mAssertionError\u001b[0m                            Traceback (most recent call last)",
      "\u001b[0;32m/tmp/ipykernel_23204/2651635254.py\u001b[0m in \u001b[0;36m<cell line: 2>\u001b[0;34m()\u001b[0m\n\u001b[1;32m      1\u001b[0m \u001b[0;31m# compute performance summary\u001b[0m\u001b[0;34m\u001b[0m\u001b[0;34m\u001b[0m\u001b[0;34m\u001b[0m\u001b[0m\n\u001b[0;32m----> 2\u001b[0;31m df_summary = eval_operation_segmentation_wrapper(\n\u001b[0m\u001b[1;32m      3\u001b[0m     \u001b[0moutputs\u001b[0m\u001b[0;34m,\u001b[0m \u001b[0mOPENPACK_OPERATIONS\u001b[0m\u001b[0;34m,\u001b[0m\u001b[0;34m\u001b[0m\u001b[0;34m\u001b[0m\u001b[0m\n\u001b[1;32m      4\u001b[0m )\n",
      "\u001b[0;32m~/.local/lib/python3.8/site-packages/openpack_toolkit/codalab/operation_segmentation/utils.py\u001b[0m in \u001b[0;36meval_operation_segmentation_wrapper\u001b[0;34m(outputs, act_set, exclude_ignore_class)\u001b[0m\n\u001b[1;32m    202\u001b[0m         \u001b[0mpd\u001b[0m\u001b[0;34m.\u001b[0m\u001b[0mDataFrame\u001b[0m\u001b[0;34m\u001b[0m\u001b[0;34m\u001b[0m\u001b[0m\n\u001b[1;32m    203\u001b[0m     \"\"\"\n\u001b[0;32m--> 204\u001b[0;31m     \u001b[0msubmission\u001b[0m \u001b[0;34m=\u001b[0m \u001b[0mconstruct_submission_dict\u001b[0m\u001b[0;34m(\u001b[0m\u001b[0moutputs\u001b[0m\u001b[0;34m,\u001b[0m \u001b[0mact_set\u001b[0m\u001b[0;34m)\u001b[0m\u001b[0;34m\u001b[0m\u001b[0;34m\u001b[0m\u001b[0m\n\u001b[0m\u001b[1;32m    205\u001b[0m     \u001b[0mclasses\u001b[0m \u001b[0;34m=\u001b[0m \u001b[0mact_set\u001b[0m\u001b[0;34m.\u001b[0m\u001b[0mto_tuple\u001b[0m\u001b[0;34m(\u001b[0m\u001b[0;34m)\u001b[0m\u001b[0;34m\u001b[0m\u001b[0;34m\u001b[0m\u001b[0m\n\u001b[1;32m    206\u001b[0m     \u001b[0mignore_class_id\u001b[0m \u001b[0;34m=\u001b[0m \u001b[0mact_set\u001b[0m\u001b[0;34m.\u001b[0m\u001b[0mget_ignore_class_id\u001b[0m\u001b[0;34m(\u001b[0m\u001b[0;34m)\u001b[0m\u001b[0;34m\u001b[0m\u001b[0;34m\u001b[0m\u001b[0m\n",
      "\u001b[0;32m~/.local/lib/python3.8/site-packages/openpack_toolkit/codalab/operation_segmentation/utils.py\u001b[0m in \u001b[0;36mconstruct_submission_dict\u001b[0;34m(outputs, act_set)\u001b[0m\n\u001b[1;32m    120\u001b[0m         \u001b[0;32massert\u001b[0m \u001b[0md\u001b[0m\u001b[0;34m[\u001b[0m\u001b[0;34m\"y\"\u001b[0m\u001b[0;34m]\u001b[0m\u001b[0;34m.\u001b[0m\u001b[0mndim\u001b[0m \u001b[0;34m==\u001b[0m \u001b[0;36m3\u001b[0m\u001b[0;34m\u001b[0m\u001b[0;34m\u001b[0m\u001b[0m\n\u001b[1;32m    121\u001b[0m         \u001b[0my_id\u001b[0m \u001b[0;34m=\u001b[0m \u001b[0mact_set\u001b[0m\u001b[0;34m.\u001b[0m\u001b[0mconvert_index_to_id\u001b[0m\u001b[0;34m(\u001b[0m\u001b[0mnp\u001b[0m\u001b[0;34m.\u001b[0m\u001b[0margmax\u001b[0m\u001b[0;34m(\u001b[0m\u001b[0md\u001b[0m\u001b[0;34m[\u001b[0m\u001b[0;34m\"y\"\u001b[0m\u001b[0;34m]\u001b[0m\u001b[0;34m,\u001b[0m \u001b[0maxis\u001b[0m\u001b[0;34m=\u001b[0m\u001b[0;36m1\u001b[0m\u001b[0;34m)\u001b[0m\u001b[0;34m.\u001b[0m\u001b[0mravel\u001b[0m\u001b[0;34m(\u001b[0m\u001b[0;34m)\u001b[0m\u001b[0;34m)\u001b[0m\u001b[0;34m\u001b[0m\u001b[0;34m\u001b[0m\u001b[0m\n\u001b[0;32m--> 122\u001b[0;31m         ts_unix_out, y_id_out = resample_prediction_1Hz(\n\u001b[0m\u001b[1;32m    123\u001b[0m             ts_unix=d[\"unixtime\"].copy().ravel(), arr=y_id)\n\u001b[1;32m    124\u001b[0m \u001b[0;34m\u001b[0m\u001b[0m\n",
      "\u001b[0;32m~/.local/lib/python3.8/site-packages/openpack_toolkit/codalab/operation_segmentation/utils.py\u001b[0m in \u001b[0;36mresample_prediction_1Hz\u001b[0;34m(ts_unix, arr)\u001b[0m\n\u001b[1;32m     47\u001b[0m \u001b[0;34m\u001b[0m\u001b[0m\n\u001b[1;32m     48\u001b[0m     \u001b[0mdelta\u001b[0m \u001b[0;34m=\u001b[0m \u001b[0;34m(\u001b[0m\u001b[0mts_unix_1hz\u001b[0m\u001b[0;34m[\u001b[0m\u001b[0;36m1\u001b[0m\u001b[0;34m:\u001b[0m\u001b[0;34m]\u001b[0m \u001b[0;34m-\u001b[0m \u001b[0mts_unix_1hz\u001b[0m\u001b[0;34m[\u001b[0m\u001b[0;34m:\u001b[0m\u001b[0;34m-\u001b[0m\u001b[0;36m1\u001b[0m\u001b[0;34m]\u001b[0m\u001b[0;34m)\u001b[0m\u001b[0;34m\u001b[0m\u001b[0;34m\u001b[0m\u001b[0m\n\u001b[0;32m---> 49\u001b[0;31m     assert delta.min() >= 0, (\n\u001b[0m\u001b[1;32m     50\u001b[0m         \u001b[0;34m\"values in array are expected to be monotonically increasing, \"\u001b[0m\u001b[0;34m\u001b[0m\u001b[0;34m\u001b[0m\u001b[0m\n\u001b[1;32m     51\u001b[0m         \u001b[0;34mf\"but the minium step is {delta.min()}.\"\u001b[0m\u001b[0;34m\u001b[0m\u001b[0;34m\u001b[0m\u001b[0m\n",
      "\u001b[0;31mAssertionError\u001b[0m: values in array are expected to be monotonically increasing, but the minium step is -3278000."
     ]
    }
   ],
   "source": [
    "# compute performance summary\n",
    "df_summary = eval_operation_segmentation_wrapper(\n",
    "    outputs, OPENPACK_OPERATIONS,\n",
    ")"
   ]
  },
  {
   "cell_type": "code",
   "execution_count": null,
   "id": "72a70472-4511-4c56-bda2-72fe3a71dea4",
   "metadata": {},
   "outputs": [],
   "source": [
    "df_summary[df_summary[\"key\"]==\"all\"]"
   ]
  },
  {
   "cell_type": "code",
   "execution_count": null,
   "id": "fcfd8be1-0c70-46a9-bfec-934a4bcec2ed",
   "metadata": {},
   "outputs": [],
   "source": []
  },
  {
   "cell_type": "markdown",
   "id": "6c71ca89-3178-490d-a93b-9030240f02a3",
   "metadata": {},
   "source": [
    "## [5] Submission"
   ]
  },
  {
   "cell_type": "markdown",
   "id": "808de226-e597-472d-a22e-ad12fe3fa08b",
   "metadata": {},
   "source": [
    "### 5-1: Get prediction for test data."
   ]
  },
  {
   "cell_type": "code",
   "execution_count": null,
   "id": "f873710b-cd64-44d0-878e-be073a81568d",
   "metadata": {},
   "outputs": [],
   "source": [
    "datamodule.setup(\"submission\")\n",
    "dataloaders = datamodule.submission_dataloader()\n",
    "split = cfg.dataset.split.submission\n",
    "\n",
    "outputs = dict()\n",
    "for i, dataloader in enumerate(dataloaders):\n",
    "    user, session = split[i]\n",
    "    logger.info(f\"test on U{user:0=4}-S{session:0=4}\")\n",
    "\n",
    "    trainer.test(plmodel, dataloader)\n",
    "\n",
    "    # save model outputs\n",
    "    pred_dir = Path(\n",
    "        cfg.volume.logdir.predict.format(user=user, session=session)\n",
    "    )\n",
    "    pred_dir.mkdir(parents=True, exist_ok=True)\n",
    "\n",
    "    for key, arr in plmodel.test_results.items():\n",
    "        path = Path(pred_dir, f\"{key}.npy\")\n",
    "        np.save(path, arr)\n",
    "        logger.info(f\"save {key}[shape={arr.shape}] to {path}\")\n",
    "\n",
    "    outputs[f\"U{user:0=4}-S{session:0=4}\"] = {\n",
    "        \"y\": plmodel.test_results.get(\"y\"),\n",
    "        \"unixtime\": plmodel.test_results.get(\"unixtime\"),\n",
    "    }"
   ]
  },
  {
   "cell_type": "markdown",
   "id": "77d977c9-065c-4e38-b7c3-ab1c4251e1f1",
   "metadata": {},
   "source": [
    "### 5-2: Make submission zip file"
   ]
  },
  {
   "cell_type": "code",
   "execution_count": null,
   "id": "83ff7cca-5916-4429-87e1-f1136b4bd3cf",
   "metadata": {},
   "outputs": [],
   "source": [
    "output_dir = Path(\".\")\n",
    "\n",
    "submission_dict = construct_submission_dict(\n",
    "    outputs, OPENPACK_OPERATIONS)\n",
    "make_submission_zipfile(submission_dict, output_dir)"
   ]
  },
  {
   "cell_type": "code",
   "execution_count": null,
   "id": "e7294f20-139c-48e5-9eb6-68124b14d329",
   "metadata": {},
   "outputs": [],
   "source": []
  }
 ],
 "metadata": {
  "kernelspec": {
   "display_name": "Python 3 (ipykernel)",
   "language": "python",
   "name": "python3"
  },
  "language_info": {
   "codemirror_mode": {
    "name": "ipython",
    "version": 3
   },
   "file_extension": ".py",
   "mimetype": "text/x-python",
   "name": "python",
   "nbconvert_exporter": "python",
   "pygments_lexer": "ipython3",
   "version": "3.8.12"
  }
 },
 "nbformat": 4,
 "nbformat_minor": 5
}
