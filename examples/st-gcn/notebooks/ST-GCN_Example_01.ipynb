{
 "cells": [
  {
   "cell_type": "markdown",
   "id": "6b686c36-3288-4aec-b590-4fd055b6350e",
   "metadata": {},
   "source": [
    "# Getting Started | ST-GCN with OpenPack Dataset (Keypoint)"
   ]
  },
  {
   "cell_type": "markdown",
   "id": "4d1546e1-71c7-4c94-9e4b-c079e6c92460",
   "metadata": {},
   "source": [
    "## [0] Inital Setup"
   ]
  },
  {
   "cell_type": "markdown",
   "id": "c8db39b1-8a79-465c-8a43-736d6f2e3e7a",
   "metadata": {},
   "source": [
    "### 0-1: Download Code and Install `openpack-torch` \n",
    "NOTE: You can also install `openpack-torch` from PyPI with `pip install openpack-torch`."
   ]
  },
  {
   "cell_type": "code",
   "execution_count": null,
   "id": "c96db04c-05f5-4aed-a843-49927f7d3d1b",
   "metadata": {},
   "outputs": [],
   "source": [
    "! cd /content && git clone https://github.com/open-pack/openpack-torch.git"
   ]
  },
  {
   "cell_type": "code",
   "execution_count": 1,
   "id": "3f48874c-6e41-4ec6-8f2c-5c0a8210616a",
   "metadata": {},
   "outputs": [
    {
     "name": "stdout",
     "output_type": "stream",
     "text": [
      "Processing /content/openpack-torch\n",
      "  Installing build dependencies ... \u001b[?25ldone\n",
      "\u001b[?25h  Getting requirements to build wheel ... \u001b[?25ldone\n",
      "\u001b[?25h  Preparing metadata (pyproject.toml) ... \u001b[?25ldone\n",
      "\u001b[?25hRequirement already satisfied: numpy<1.22.0 in /opt/conda/lib/python3.8/site-packages (from openpack-torch==0.4.0) (1.21.6)\n",
      "Requirement already satisfied: openpack-toolkit<0.6.0,>=0.5.0 in /opt/conda/lib/python3.8/site-packages (from openpack-torch==0.4.0) (0.5.0)\n",
      "Requirement already satisfied: hydra-core<2.0.0,>=1.2.0 in /opt/conda/lib/python3.8/site-packages (from openpack-torch==0.4.0) (1.2.0)\n",
      "Requirement already satisfied: omegaconf<3.0.0,>=2.2.1 in /opt/conda/lib/python3.8/site-packages (from openpack-torch==0.4.0) (2.2.2)\n",
      "Requirement already satisfied: torch<2.0.0,>=1.9.0 in /opt/conda/lib/python3.8/site-packages (from openpack-torch==0.4.0) (1.11.0)\n",
      "Requirement already satisfied: sklearn>=0.0 in /opt/conda/lib/python3.8/site-packages (from openpack-torch==0.4.0) (0.0)\n",
      "Requirement already satisfied: pytorch-lightning<2.0.0,>=1.6.3 in /opt/conda/lib/python3.8/site-packages (from openpack-torch==0.4.0) (1.6.4)\n",
      "Requirement already satisfied: pandas<2.0.0,>=1.2.4 in /opt/conda/lib/python3.8/site-packages (from openpack-torch==0.4.0) (1.3.5)\n",
      "Requirement already satisfied: tqdm<5.0.0,>=4.64.0 in /opt/conda/lib/python3.8/site-packages (from openpack-torch==0.4.0) (4.64.0)\n",
      "Requirement already satisfied: packaging in /opt/conda/lib/python3.8/site-packages (from hydra-core<2.0.0,>=1.2.0->openpack-torch==0.4.0) (21.3)\n",
      "Requirement already satisfied: importlib-resources in /opt/conda/lib/python3.8/site-packages (from hydra-core<2.0.0,>=1.2.0->openpack-torch==0.4.0) (5.8.0)\n",
      "Requirement already satisfied: antlr4-python3-runtime==4.9.* in /opt/conda/lib/python3.8/site-packages (from hydra-core<2.0.0,>=1.2.0->openpack-torch==0.4.0) (4.9.3)\n",
      "Requirement already satisfied: PyYAML>=5.1.0 in /opt/conda/lib/python3.8/site-packages (from omegaconf<3.0.0,>=2.2.1->openpack-torch==0.4.0) (6.0)\n",
      "Requirement already satisfied: scipy<2.0.0,>=1.7.3 in /opt/conda/lib/python3.8/site-packages (from openpack-toolkit<0.6.0,>=0.5.0->openpack-torch==0.4.0) (1.7.3)\n",
      "Requirement already satisfied: pytz>=2017.3 in /opt/conda/lib/python3.8/site-packages (from pandas<2.0.0,>=1.2.4->openpack-torch==0.4.0) (2022.1)\n",
      "Requirement already satisfied: python-dateutil>=2.7.3 in /opt/conda/lib/python3.8/site-packages (from pandas<2.0.0,>=1.2.4->openpack-torch==0.4.0) (2.8.2)\n",
      "Requirement already satisfied: fsspec[http]!=2021.06.0,>=2021.05.0 in /opt/conda/lib/python3.8/site-packages (from pytorch-lightning<2.0.0,>=1.6.3->openpack-torch==0.4.0) (2022.5.0)\n",
      "Requirement already satisfied: typing-extensions>=4.0.0 in /opt/conda/lib/python3.8/site-packages (from pytorch-lightning<2.0.0,>=1.6.3->openpack-torch==0.4.0) (4.3.0)\n",
      "Requirement already satisfied: protobuf<=3.20.1 in /opt/conda/lib/python3.8/site-packages (from pytorch-lightning<2.0.0,>=1.6.3->openpack-torch==0.4.0) (3.20.1)\n",
      "Requirement already satisfied: torchmetrics>=0.4.1 in /opt/conda/lib/python3.8/site-packages (from pytorch-lightning<2.0.0,>=1.6.3->openpack-torch==0.4.0) (0.9.1)\n",
      "Requirement already satisfied: tensorboard>=2.2.0 in /opt/conda/lib/python3.8/site-packages (from pytorch-lightning<2.0.0,>=1.6.3->openpack-torch==0.4.0) (2.9.0)\n",
      "Requirement already satisfied: pyDeprecate>=0.3.1 in /opt/conda/lib/python3.8/site-packages (from pytorch-lightning<2.0.0,>=1.6.3->openpack-torch==0.4.0) (0.3.2)\n",
      "Requirement already satisfied: scikit-learn in /opt/conda/lib/python3.8/site-packages (from sklearn>=0.0->openpack-torch==0.4.0) (1.0.2)\n",
      "Requirement already satisfied: requests in /opt/conda/lib/python3.8/site-packages (from fsspec[http]!=2021.06.0,>=2021.05.0->pytorch-lightning<2.0.0,>=1.6.3->openpack-torch==0.4.0) (2.28.0)\n",
      "Requirement already satisfied: aiohttp in /opt/conda/lib/python3.8/site-packages (from fsspec[http]!=2021.06.0,>=2021.05.0->pytorch-lightning<2.0.0,>=1.6.3->openpack-torch==0.4.0) (3.8.1)\n",
      "Requirement already satisfied: pyparsing!=3.0.5,>=2.0.2 in /opt/conda/lib/python3.8/site-packages (from packaging->hydra-core<2.0.0,>=1.2.0->openpack-torch==0.4.0) (3.0.9)\n",
      "Requirement already satisfied: six>=1.5 in /opt/conda/lib/python3.8/site-packages (from python-dateutil>=2.7.3->pandas<2.0.0,>=1.2.4->openpack-torch==0.4.0) (1.16.0)\n",
      "Requirement already satisfied: grpcio>=1.24.3 in /opt/conda/lib/python3.8/site-packages (from tensorboard>=2.2.0->pytorch-lightning<2.0.0,>=1.6.3->openpack-torch==0.4.0) (1.47.0)\n",
      "Requirement already satisfied: setuptools>=41.0.0 in /opt/conda/lib/python3.8/site-packages (from tensorboard>=2.2.0->pytorch-lightning<2.0.0,>=1.6.3->openpack-torch==0.4.0) (58.0.4)\n",
      "Requirement already satisfied: tensorboard-plugin-wit>=1.6.0 in /opt/conda/lib/python3.8/site-packages (from tensorboard>=2.2.0->pytorch-lightning<2.0.0,>=1.6.3->openpack-torch==0.4.0) (1.8.1)\n",
      "Requirement already satisfied: tensorboard-data-server<0.7.0,>=0.6.0 in /opt/conda/lib/python3.8/site-packages (from tensorboard>=2.2.0->pytorch-lightning<2.0.0,>=1.6.3->openpack-torch==0.4.0) (0.6.1)\n",
      "Requirement already satisfied: absl-py>=0.4 in /opt/conda/lib/python3.8/site-packages (from tensorboard>=2.2.0->pytorch-lightning<2.0.0,>=1.6.3->openpack-torch==0.4.0) (1.1.0)\n",
      "Requirement already satisfied: wheel>=0.26 in /opt/conda/lib/python3.8/site-packages (from tensorboard>=2.2.0->pytorch-lightning<2.0.0,>=1.6.3->openpack-torch==0.4.0) (0.37.1)\n",
      "Requirement already satisfied: google-auth<3,>=1.6.3 in /opt/conda/lib/python3.8/site-packages (from tensorboard>=2.2.0->pytorch-lightning<2.0.0,>=1.6.3->openpack-torch==0.4.0) (2.8.0)\n",
      "Requirement already satisfied: markdown>=2.6.8 in /opt/conda/lib/python3.8/site-packages (from tensorboard>=2.2.0->pytorch-lightning<2.0.0,>=1.6.3->openpack-torch==0.4.0) (3.3.7)\n",
      "Requirement already satisfied: werkzeug>=1.0.1 in /opt/conda/lib/python3.8/site-packages (from tensorboard>=2.2.0->pytorch-lightning<2.0.0,>=1.6.3->openpack-torch==0.4.0) (2.1.2)\n",
      "Requirement already satisfied: google-auth-oauthlib<0.5,>=0.4.1 in /opt/conda/lib/python3.8/site-packages (from tensorboard>=2.2.0->pytorch-lightning<2.0.0,>=1.6.3->openpack-torch==0.4.0) (0.4.6)\n",
      "Requirement already satisfied: zipp>=3.1.0 in /opt/conda/lib/python3.8/site-packages (from importlib-resources->hydra-core<2.0.0,>=1.2.0->openpack-torch==0.4.0) (3.8.0)\n",
      "Requirement already satisfied: threadpoolctl>=2.0.0 in /opt/conda/lib/python3.8/site-packages (from scikit-learn->sklearn>=0.0->openpack-torch==0.4.0) (3.1.0)\n",
      "Requirement already satisfied: joblib>=0.11 in /opt/conda/lib/python3.8/site-packages (from scikit-learn->sklearn>=0.0->openpack-torch==0.4.0) (1.1.0)\n",
      "Requirement already satisfied: pyasn1-modules>=0.2.1 in /opt/conda/lib/python3.8/site-packages (from google-auth<3,>=1.6.3->tensorboard>=2.2.0->pytorch-lightning<2.0.0,>=1.6.3->openpack-torch==0.4.0) (0.2.8)\n",
      "Requirement already satisfied: cachetools<6.0,>=2.0.0 in /opt/conda/lib/python3.8/site-packages (from google-auth<3,>=1.6.3->tensorboard>=2.2.0->pytorch-lightning<2.0.0,>=1.6.3->openpack-torch==0.4.0) (5.2.0)\n",
      "Requirement already satisfied: rsa<5,>=3.1.4 in /opt/conda/lib/python3.8/site-packages (from google-auth<3,>=1.6.3->tensorboard>=2.2.0->pytorch-lightning<2.0.0,>=1.6.3->openpack-torch==0.4.0) (4.8)\n",
      "Requirement already satisfied: requests-oauthlib>=0.7.0 in /opt/conda/lib/python3.8/site-packages (from google-auth-oauthlib<0.5,>=0.4.1->tensorboard>=2.2.0->pytorch-lightning<2.0.0,>=1.6.3->openpack-torch==0.4.0) (1.3.1)\n",
      "Requirement already satisfied: importlib-metadata>=4.4 in /opt/conda/lib/python3.8/site-packages (from markdown>=2.6.8->tensorboard>=2.2.0->pytorch-lightning<2.0.0,>=1.6.3->openpack-torch==0.4.0) (4.12.0)\n",
      "Requirement already satisfied: urllib3<1.27,>=1.21.1 in /opt/conda/lib/python3.8/site-packages (from requests->fsspec[http]!=2021.06.0,>=2021.05.0->pytorch-lightning<2.0.0,>=1.6.3->openpack-torch==0.4.0) (1.26.9)\n",
      "Requirement already satisfied: charset-normalizer~=2.0.0 in /opt/conda/lib/python3.8/site-packages (from requests->fsspec[http]!=2021.06.0,>=2021.05.0->pytorch-lightning<2.0.0,>=1.6.3->openpack-torch==0.4.0) (2.0.12)\n",
      "Requirement already satisfied: idna<4,>=2.5 in /opt/conda/lib/python3.8/site-packages (from requests->fsspec[http]!=2021.06.0,>=2021.05.0->pytorch-lightning<2.0.0,>=1.6.3->openpack-torch==0.4.0) (3.3)\n",
      "Requirement already satisfied: certifi>=2017.4.17 in /opt/conda/lib/python3.8/site-packages (from requests->fsspec[http]!=2021.06.0,>=2021.05.0->pytorch-lightning<2.0.0,>=1.6.3->openpack-torch==0.4.0) (2022.6.15)\n",
      "Requirement already satisfied: attrs>=17.3.0 in /opt/conda/lib/python3.8/site-packages (from aiohttp->fsspec[http]!=2021.06.0,>=2021.05.0->pytorch-lightning<2.0.0,>=1.6.3->openpack-torch==0.4.0) (21.4.0)\n",
      "Requirement already satisfied: async-timeout<5.0,>=4.0.0a3 in /opt/conda/lib/python3.8/site-packages (from aiohttp->fsspec[http]!=2021.06.0,>=2021.05.0->pytorch-lightning<2.0.0,>=1.6.3->openpack-torch==0.4.0) (4.0.2)\n",
      "Requirement already satisfied: frozenlist>=1.1.1 in /opt/conda/lib/python3.8/site-packages (from aiohttp->fsspec[http]!=2021.06.0,>=2021.05.0->pytorch-lightning<2.0.0,>=1.6.3->openpack-torch==0.4.0) (1.3.0)\n",
      "Requirement already satisfied: multidict<7.0,>=4.5 in /opt/conda/lib/python3.8/site-packages (from aiohttp->fsspec[http]!=2021.06.0,>=2021.05.0->pytorch-lightning<2.0.0,>=1.6.3->openpack-torch==0.4.0) (6.0.2)\n",
      "Requirement already satisfied: aiosignal>=1.1.2 in /opt/conda/lib/python3.8/site-packages (from aiohttp->fsspec[http]!=2021.06.0,>=2021.05.0->pytorch-lightning<2.0.0,>=1.6.3->openpack-torch==0.4.0) (1.2.0)\n",
      "Requirement already satisfied: yarl<2.0,>=1.0 in /opt/conda/lib/python3.8/site-packages (from aiohttp->fsspec[http]!=2021.06.0,>=2021.05.0->pytorch-lightning<2.0.0,>=1.6.3->openpack-torch==0.4.0) (1.7.2)\n",
      "Requirement already satisfied: pyasn1<0.5.0,>=0.4.6 in /opt/conda/lib/python3.8/site-packages (from pyasn1-modules>=0.2.1->google-auth<3,>=1.6.3->tensorboard>=2.2.0->pytorch-lightning<2.0.0,>=1.6.3->openpack-torch==0.4.0) (0.4.8)\n",
      "Requirement already satisfied: oauthlib>=3.0.0 in /opt/conda/lib/python3.8/site-packages (from requests-oauthlib>=0.7.0->google-auth-oauthlib<0.5,>=0.4.1->tensorboard>=2.2.0->pytorch-lightning<2.0.0,>=1.6.3->openpack-torch==0.4.0) (3.2.0)\n",
      "Building wheels for collected packages: openpack-torch\n",
      "  Building wheel for openpack-torch (pyproject.toml) ... \u001b[?25ldone\n",
      "\u001b[?25h  Created wheel for openpack-torch: filename=openpack_torch-0.4.0-py3-none-any.whl size=19653 sha256=7a879d837ea83a02703aa0826c4d4fb1001241553259d4eea09d22da99cbf6ba\n",
      "  Stored in directory: /root/.cache/pip/wheels/3c/41/d3/f3da9cc23f0fe3895867143cff021a2da847c6ed2c7f33f269\n",
      "Successfully built openpack-torch\n",
      "Installing collected packages: openpack-torch\n",
      "  Attempting uninstall: openpack-torch\n",
      "    Found existing installation: openpack-torch 0.4.0\n",
      "    Uninstalling openpack-torch-0.4.0:\n",
      "      Successfully uninstalled openpack-torch-0.4.0\n",
      "Successfully installed openpack-torch-0.4.0\n",
      "\u001b[33mWARNING: Running pip as the 'root' user can result in broken permissions and conflicting behaviour with the system package manager. It is recommended to use a virtual environment instead: https://pip.pypa.io/warnings/venv\u001b[0m\u001b[33m\n",
      "\u001b[0m\u001b[33mWARNING: There was an error checking the latest version of pip.\u001b[0m\u001b[33m\n",
      "\u001b[0m"
     ]
    }
   ],
   "source": [
    "! cd /content/openpack-torch/ && pip install ."
   ]
  },
  {
   "cell_type": "markdown",
   "id": "d5683dbd-1531-4612-a103-3defe8646096",
   "metadata": {},
   "source": [
    "### 0-2: Download Dataset to  `/content/data`\n",
    "- Souce: https://doi.org/10.5281/zenodo.5909086"
   ]
  },
  {
   "cell_type": "code",
   "execution_count": 2,
   "id": "279aea53-753b-4aa6-a875-2769376877d8",
   "metadata": {},
   "outputs": [
    {
     "name": "stdout",
     "output_type": "stream",
     "text": [
      "INFO:openpack_toolkit.bin.download:Donwload OpenPack dataset from zenodo.\n",
      "INFO:openpack_toolkit.bin.download: - dataset_dir : /content/data/datasets\n",
      "INFO:openpack_toolkit.bin.download: - version     : v0.2.1\n",
      "INFO:openpack_toolkit.bin.download: - streams     : ['kinect-2d-kpt', 'openpack-operations']\n",
      "INFO:openpack_toolkit.download._helpers:== [0/2] kinect-2d-kpt ==\n",
      "INFO:openpack_toolkit.download._helpers:[0/5] U0102\n",
      "INFO:openpack_toolkit.download._helpers:[1/5] U0103\n",
      "INFO:openpack_toolkit.download._helpers:[2/5] U0105\n",
      "INFO:openpack_toolkit.download._helpers:[3/5] U0106\n",
      "INFO:openpack_toolkit.download._helpers:[4/5] U0107\n",
      "INFO:openpack_toolkit.download._helpers:== [1/2] openpack-operations ==\n",
      "INFO:openpack_toolkit.download._helpers:[0/5] U0102\n",
      "INFO:openpack_toolkit.download._helpers:[1/5] U0103\n",
      "INFO:openpack_toolkit.download._helpers:[2/5] U0105\n",
      "INFO:openpack_toolkit.download._helpers:[3/5] U0106\n",
      "INFO:openpack_toolkit.download._helpers:[4/5] U0107\n"
     ]
    }
   ],
   "source": [
    "! mkdir -p /content/data/datasets/\n",
    "! optk-download -d /content/data/datasets -v v0.2.1 -s kinect-2d-kpt,openpack-operations"
   ]
  },
  {
   "cell_type": "markdown",
   "id": "cb4825be-fe17-4461-b700-2379d0a9dd3f",
   "metadata": {},
   "source": [
    "### 0-3: Import Modules"
   ]
  },
  {
   "cell_type": "code",
   "execution_count": 3,
   "id": "dfe08d0d-820e-4b01-89aa-00a087f3113c",
   "metadata": {},
   "outputs": [
    {
     "name": "stderr",
     "output_type": "stream",
     "text": [
      "/opt/conda/lib/python3.8/site-packages/tqdm/auto.py:22: TqdmWarning: IProgress not found. Please update jupyter and ipywidgets. See https://ipywidgets.readthedocs.io/en/stable/user_install.html\n",
      "  from .autonotebook import tqdm as notebook_tqdm\n"
     ]
    }
   ],
   "source": [
    "import os\n",
    "import shutil\n",
    "import logging\n",
    "from pathlib import Path\n",
    "from typing import Dict, Optional\n",
    "\n",
    "import hydra\n",
    "import numpy as np\n",
    "import openpack_toolkit as optk\n",
    "import openpack_torch as optorch\n",
    "import pandas as pd\n",
    "import pytorch_lightning as pl\n",
    "import torch\n",
    "import matplotlib.pyplot as plt\n",
    "import seaborn as sns\n",
    "from hydra import initialize_config_dir, compose\n",
    "from omegaconf import DictConfig, OmegaConf\n",
    "from openpack_toolkit import OPENPACK_OPERATIONS\n",
    "from openpack_toolkit.codalab.operation_segmentation import (\n",
    "    construct_submission_dict, eval_operation_segmentation_wrapper,\n",
    "    make_submission_zipfile)\n",
    "\n",
    "\n",
    "sns.set(\"notebook\", \"whitegrid\")"
   ]
  },
  {
   "cell_type": "markdown",
   "id": "7b9ab06d-c1fd-4c93-b661-2f385209b45d",
   "metadata": {},
   "source": [
    "### 0-4: Setup Logger"
   ]
  },
  {
   "cell_type": "code",
   "execution_count": 4,
   "id": "4ecc9586-8e12-479e-9d92-2e6c3c183e78",
   "metadata": {},
   "outputs": [
    {
     "name": "stderr",
     "output_type": "stream",
     "text": [
      "2022-07-10 15:37:06 | INFO | __main__ | info\n",
      "2022-07-10 15:37:06 | WARNING | __main__ | warning\n"
     ]
    }
   ],
   "source": [
    "_ = optk.utils.notebook.setup_root_logger()\n",
    "logger = logging.getLogger(__name__)\n",
    "\n",
    "logger.debug(\"debug\")\n",
    "logger.info(\"info\")\n",
    "logger.warning(\"warning\")"
   ]
  },
  {
   "cell_type": "markdown",
   "id": "0b9d75dc-e2e0-459e-8abc-392d2e01941f",
   "metadata": {},
   "source": [
    "## [1] Load Config File"
   ]
  },
  {
   "cell_type": "code",
   "execution_count": 5,
   "id": "7fee1706-a349-489a-9673-3ba4022cf1fa",
   "metadata": {},
   "outputs": [],
   "source": [
    "optorch.configs.register_configs()"
   ]
  },
  {
   "cell_type": "code",
   "execution_count": 6,
   "id": "ad0605ab-a82d-4d36-b25d-2ff706245681",
   "metadata": {
    "tags": []
   },
   "outputs": [
    {
     "name": "stdout",
     "output_type": "stream",
     "text": [
      "dataset:\n",
      "  name: openpack-2d-kpt\n",
      "  streams: null\n",
      "  stream:\n",
      "    schema: KeypointConfig\n",
      "    name: kinect-2d-kpt\n",
      "    description: 2D keypoint extracted by mmpose/hrnet. The model used to extract\n",
      "      keypoints was 2-stage bottom-up model defined in [mmpose/2d_kpt_sview_rgb_vid/posewarper/posetrack18/hrnet_w48_posetrack18_384x288_posewarper_stage2.py](https://github.com/open-mmlab/mmpose/blob/master/configs/body/2d_kpt_sview_rgb_vid/posewarper/posetrack18/hrnet_w48_posetrack18_384x288_posewarper_stage2.py).\n",
      "    super_stream: None\n",
      "    path:\n",
      "      dir: ${path.openpack.rootdir}/${user.name}/kinect/${..category}/${..model}/single\n",
      "      fname: ${session}.json\n",
      "    file_format: null\n",
      "    frame_rate: 15\n",
      "    category: 2d-kpt\n",
      "    model: mmpose-hrnet-w48-posetrack18-384x288-posewarper-stage2\n",
      "    nodes:\n",
      "      0: nose\n",
      "      1: left_eye\n",
      "      2: right_eye\n",
      "      3: left_ear\n",
      "      4: right_ear\n",
      "      5: left_shoulder\n",
      "      6: right_shoulder\n",
      "      7: left_elbow\n",
      "      8: right_elbow\n",
      "      9: left_wrist\n",
      "      10: right_wrist\n",
      "      11: left_hip\n",
      "      12: right_hip\n",
      "      13: left_knee\n",
      "      14: right_knee\n",
      "      15: left_ankle\n",
      "      16: right_ankle\n",
      "  split:\n",
      "    name: pilot-challenge\n",
      "    train:\n",
      "    - - U0102\n",
      "      - S0100\n",
      "    - - U0102\n",
      "      - S0200\n",
      "    - - U0102\n",
      "      - S0300\n",
      "    - - U0102\n",
      "      - S0400\n",
      "    - - U0102\n",
      "      - S0500\n",
      "    - - U0103\n",
      "      - S0100\n",
      "    - - U0103\n",
      "      - S0200\n",
      "    - - U0103\n",
      "      - S0300\n",
      "    - - U0103\n",
      "      - S0400\n",
      "    - - U0103\n",
      "      - S0500\n",
      "    - - U0105\n",
      "      - S0100\n",
      "    - - U0105\n",
      "      - S0200\n",
      "    - - U0105\n",
      "      - S0300\n",
      "    - - U0105\n",
      "      - S0400\n",
      "    - - U0105\n",
      "      - S0500\n",
      "    val:\n",
      "    - - U0106\n",
      "      - S0200\n",
      "    - - U0106\n",
      "      - S0400\n",
      "    test:\n",
      "    - - U0106\n",
      "      - S0100\n",
      "    - - U0106\n",
      "      - S0300\n",
      "    - - U0106\n",
      "      - S0500\n",
      "    submission:\n",
      "    - - U0107\n",
      "      - S0100\n",
      "    - - U0107\n",
      "      - S0200\n",
      "    - - U0107\n",
      "      - S0300\n",
      "    - - U0107\n",
      "      - S0500\n",
      "  annotation:\n",
      "    name: openpack-operations\n",
      "    version: v3.2.1\n",
      "    path:\n",
      "      dir: ${path.openpack.rootdir}/${user.name}/annotation/${..name}\n",
      "      fname: ${session}.csv\n",
      "    file_format: null\n",
      "    classes:\n",
      "      classes:\n",
      "      - id: 100\n",
      "        name: Picking\n",
      "        is_ignore: false\n",
      "      - id: 200\n",
      "        name: RelocateItemLabel\n",
      "        is_ignore: false\n",
      "      - id: 300\n",
      "        name: AssembleBox\n",
      "        is_ignore: false\n",
      "      - id: 400\n",
      "        name: InsertItems\n",
      "        is_ignore: false\n",
      "      - id: 500\n",
      "        name: CloseBox\n",
      "        is_ignore: false\n",
      "      - id: 600\n",
      "        name: AttachBoxLabel\n",
      "        is_ignore: false\n",
      "      - id: 700\n",
      "        name: ScanLabel\n",
      "        is_ignore: false\n",
      "      - id: 800\n",
      "        name: AttachShippingLabel\n",
      "        is_ignore: false\n",
      "      - id: 900\n",
      "        name: PutOnRack\n",
      "        is_ignore: false\n",
      "      - id: 1000\n",
      "        name: Fill-outOrder\n",
      "        is_ignore: false\n",
      "      - id: 8100\n",
      "        name: 'Null'\n",
      "        is_ignore: true\n",
      "datarootdir: /content/data\n",
      "issue: I01-EXP1-V1-nb\n",
      "debug: false\n",
      "mode: train\n",
      "model:\n",
      "  name: STGCN4Seg\n",
      "  Ks: 3\n",
      "  Kt: 9\n",
      "train:\n",
      "  num_workers: 3\n",
      "  batch_size: 8\n",
      "  epochs: 100\n",
      "  window: 900\n",
      "  optimizer:\n",
      "    type: Adam\n",
      "    lr: 0.001\n",
      "    weight_decay: 0.0001\n",
      "  debug:\n",
      "    batch_size: 8\n",
      "    epochs: 5\n",
      "path:\n",
      "  openpack:\n",
      "    version: v0.2.1\n",
      "    rootdir: ${datarootdir}/datasets/openpack/${.version}\n",
      "  logdir:\n",
      "    rootdir: ${datarootdir}/log/${dataset.name}/${model.name}/${issue}\n",
      "    model: ${path.logdir.rootdir}/model.pth\n",
      "    predict: ${path.logdir.rootdir}/pred/{user}-{session}\n",
      "    summary:\n",
      "      test: ${path.logdir.rootdir}/summary.csv\n",
      "      submission: ${path.logdir.rootdir}/summary_submission.csv\n",
      "\n"
     ]
    }
   ],
   "source": [
    "config_dir = Path(\"/content/openpack-torch/examples/st-gcn/configs\")\n",
    "overrides = [\n",
    "    \"mode=train\",\n",
    "    \"issue=I01-EXP1-V1-nb\",\n",
    "    \"debug=false\",\n",
    "    \"train.batch_size=8\",\n",
    "    \"datarootdir=/content/data\",\n",
    "    \"hydra/job_logging=custom\",\n",
    "    \"hydra/hydra_logging=disabled\"\n",
    "]\n",
    "\n",
    "with initialize_config_dir(version_base=None, config_dir=str(config_dir)):\n",
    "    cfg = compose(\n",
    "        config_name=\"operation-segmentation.yaml\",\n",
    "        overrides=overrides,\n",
    "    )\n",
    "print(OmegaConf.to_yaml(cfg))"
   ]
  },
  {
   "cell_type": "markdown",
   "id": "fb224ba0-c400-4838-aa7b-e11df8826acb",
   "metadata": {},
   "source": [
    "## [2] Define Utilities (Pytorch Lightning Modules)"
   ]
  },
  {
   "cell_type": "markdown",
   "id": "2f3463c3-8c6f-4449-a446-a7a9b27fb60f",
   "metadata": {},
   "source": [
    "### 2-1: DataModule\n",
    "\n",
    "Override `optorch.data.OpenPackBaseDataModule` to use Keypoint data."
   ]
  },
  {
   "cell_type": "code",
   "execution_count": 7,
   "id": "ca57cd43-364b-4526-bd6c-830cd9c30b67",
   "metadata": {},
   "outputs": [],
   "source": [
    "class OpenPackKeypointDataModule(optorch.data.OpenPackBaseDataModule):\n",
    "    dataset_class = optorch.data.datasets.OpenPackKeypoint\n",
    "\n",
    "    def get_kwargs_for_datasets(self, stage: Optional[str] = None) -> Dict:\n",
    "        submission = True if self.cfg.mode == \"submission\" else False\n",
    "\n",
    "        kwargs = {\n",
    "            \"debug\": self.cfg.debug,\n",
    "            \"window\": self.cfg.train.window,\n",
    "            \"submission\": submission,\n",
    "        }\n",
    "        return kwargs"
   ]
  },
  {
   "cell_type": "markdown",
   "id": "e7bee7aa-f7c2-4f63-a43b-2513e09f7ab7",
   "metadata": {},
   "source": [
    "### 2-2: Lightning Module"
   ]
  },
  {
   "cell_type": "code",
   "execution_count": 8,
   "id": "3f68f6a2-9107-4291-9feb-a61d28ab3821",
   "metadata": {},
   "outputs": [],
   "source": [
    "class STGCN4SegLM(optorch.lightning.BaseLightningModule):\n",
    "\n",
    "    def init_model(self, cfg: DictConfig) -> torch.nn.Module:\n",
    "        in_ch = 2\n",
    "        Ks = cfg.model.Ks\n",
    "        A = optorch.models.keypoint.get_adjacency_matrix(\n",
    "            layout=\"MSCOCO\", hop_size=Ks - 1)\n",
    "        \n",
    "        model = optorch.models.keypoint.STGCN4Seg(\n",
    "            in_ch,\n",
    "            len(OPENPACK_OPERATIONS),\n",
    "            Ks=cfg.model.Ks,\n",
    "            Kt=cfg.model.Kt,\n",
    "            A=A,\n",
    "        )\n",
    "        return model\n",
    "\n",
    "    def training_step(self, batch: Dict, batch_idx: int) -> Dict:\n",
    "        x = batch[\"x\"].to(device=self.device, dtype=torch.float)\n",
    "        t = batch[\"t\"].to(device=self.device, dtype=torch.long)\n",
    "        y_hat = self(x).squeeze(3)\n",
    "\n",
    "        loss = self.criterion(y_hat, t)\n",
    "        acc = self.calc_accuracy(y_hat, t)\n",
    "        return {\"loss\": loss, \"acc\": acc}\n",
    "\n",
    "    def test_step(self, batch: Dict, batch_idx: int) -> Dict:\n",
    "        x = batch[\"x\"].to(device=self.device, dtype=torch.float)\n",
    "        t = batch[\"t\"].to(device=self.device, dtype=torch.long)\n",
    "        ts_unix = batch[\"ts\"]\n",
    "\n",
    "        y_hat = self(x).squeeze(3)\n",
    "\n",
    "        outputs = dict(t=t, y=y_hat, unixtime=ts_unix)\n",
    "        return outputs"
   ]
  },
  {
   "cell_type": "code",
   "execution_count": null,
   "id": "656308fb-20aa-4254-91b2-bf91aebc1d4d",
   "metadata": {},
   "outputs": [],
   "source": []
  },
  {
   "cell_type": "markdown",
   "id": "3901ae78-aed8-46a6-95d1-48f84f31823d",
   "metadata": {},
   "source": [
    "## [3] Train U-Net"
   ]
  },
  {
   "cell_type": "markdown",
   "id": "46bcf301-24e3-4c11-883d-c3354114bf69",
   "metadata": {},
   "source": [
    "### 3-1: Initialize U-Net Model and DataLoader."
   ]
  },
  {
   "cell_type": "code",
   "execution_count": 9,
   "id": "f8d63c1a-20ce-4581-8e79-7826e2afd083",
   "metadata": {},
   "outputs": [
    {
     "name": "stderr",
     "output_type": "stream",
     "text": [
      "2022-07-10 15:37:06 | INFO | torch.distributed.nn.jit.instantiator | Created a temporary directory at /tmp/tmpjq27s2_w\n",
      "2022-07-10 15:37:06 | INFO | torch.distributed.nn.jit.instantiator | Writing /tmp/tmpjq27s2_w/_remote_module_non_sriptable.py\n"
     ]
    }
   ],
   "source": [
    "device = torch.device(\"cuda\")\n",
    "logdir = Path.cwd()\n",
    "logger.debug(f\"logdir = {logdir}\")\n",
    "\n",
    "datamodule = OpenPackKeypointDataModule(cfg)\n",
    "plmodel = STGCN4SegLM(cfg).to(dtype=torch.float, device=device)"
   ]
  },
  {
   "cell_type": "code",
   "execution_count": 10,
   "id": "c44f0a87-ca40-40d8-a6ee-16d9c38e0c1c",
   "metadata": {},
   "outputs": [
    {
     "data": {
      "text/plain": [
       "STGCN4SegLM(\n",
       "  (net): STGCN4Seg(\n",
       "    (bn): BatchNorm1d(34, eps=1e-05, momentum=0.1, affine=True, track_running_stats=True)\n",
       "    (stgc1): STConvBlock(\n",
       "      (sgc): SpatialGraphConvLayer(\n",
       "        (conv): Conv2d(2, 96, kernel_size=(1, 1), stride=(1, 1))\n",
       "      )\n",
       "      (tgc): TemporalConvLayer(\n",
       "        (block): Sequential(\n",
       "          (0): BatchNorm2d(32, eps=1e-05, momentum=0.1, affine=True, track_running_stats=True)\n",
       "          (1): ReLU()\n",
       "          (2): Dropout(p=0.5, inplace=False)\n",
       "          (3): Conv2d(32, 32, kernel_size=(9, 1), stride=(1, 1), padding=(4, 0))\n",
       "          (4): BatchNorm2d(32, eps=1e-05, momentum=0.1, affine=True, track_running_stats=True)\n",
       "          (5): ReLU()\n",
       "        )\n",
       "      )\n",
       "    )\n",
       "    (stgc2): STConvBlock(\n",
       "      (sgc): SpatialGraphConvLayer(\n",
       "        (conv): Conv2d(32, 96, kernel_size=(1, 1), stride=(1, 1))\n",
       "      )\n",
       "      (tgc): TemporalConvLayer(\n",
       "        (block): Sequential(\n",
       "          (0): BatchNorm2d(32, eps=1e-05, momentum=0.1, affine=True, track_running_stats=True)\n",
       "          (1): ReLU()\n",
       "          (2): Dropout(p=0.5, inplace=False)\n",
       "          (3): Conv2d(32, 32, kernel_size=(9, 1), stride=(1, 1), padding=(4, 0))\n",
       "          (4): BatchNorm2d(32, eps=1e-05, momentum=0.1, affine=True, track_running_stats=True)\n",
       "          (5): ReLU()\n",
       "        )\n",
       "      )\n",
       "    )\n",
       "    (stgc3): STConvBlock(\n",
       "      (sgc): SpatialGraphConvLayer(\n",
       "        (conv): Conv2d(32, 96, kernel_size=(1, 1), stride=(1, 1))\n",
       "      )\n",
       "      (tgc): TemporalConvLayer(\n",
       "        (block): Sequential(\n",
       "          (0): BatchNorm2d(32, eps=1e-05, momentum=0.1, affine=True, track_running_stats=True)\n",
       "          (1): ReLU()\n",
       "          (2): Dropout(p=0.5, inplace=False)\n",
       "          (3): Conv2d(32, 32, kernel_size=(9, 1), stride=(1, 1), padding=(4, 0))\n",
       "          (4): BatchNorm2d(32, eps=1e-05, momentum=0.1, affine=True, track_running_stats=True)\n",
       "          (5): ReLU()\n",
       "        )\n",
       "      )\n",
       "    )\n",
       "    (stgc4): STConvBlock(\n",
       "      (sgc): SpatialGraphConvLayer(\n",
       "        (conv): Conv2d(32, 192, kernel_size=(1, 1), stride=(1, 1))\n",
       "      )\n",
       "      (tgc): TemporalConvLayer(\n",
       "        (block): Sequential(\n",
       "          (0): BatchNorm2d(64, eps=1e-05, momentum=0.1, affine=True, track_running_stats=True)\n",
       "          (1): ReLU()\n",
       "          (2): Dropout(p=0.5, inplace=False)\n",
       "          (3): Conv2d(64, 64, kernel_size=(9, 1), stride=(1, 1), padding=(4, 0))\n",
       "          (4): BatchNorm2d(64, eps=1e-05, momentum=0.1, affine=True, track_running_stats=True)\n",
       "          (5): ReLU()\n",
       "        )\n",
       "      )\n",
       "    )\n",
       "    (stgc5): STConvBlock(\n",
       "      (sgc): SpatialGraphConvLayer(\n",
       "        (conv): Conv2d(64, 192, kernel_size=(1, 1), stride=(1, 1))\n",
       "      )\n",
       "      (tgc): TemporalConvLayer(\n",
       "        (block): Sequential(\n",
       "          (0): BatchNorm2d(64, eps=1e-05, momentum=0.1, affine=True, track_running_stats=True)\n",
       "          (1): ReLU()\n",
       "          (2): Dropout(p=0.5, inplace=False)\n",
       "          (3): Conv2d(64, 64, kernel_size=(9, 1), stride=(1, 1), padding=(4, 0))\n",
       "          (4): BatchNorm2d(64, eps=1e-05, momentum=0.1, affine=True, track_running_stats=True)\n",
       "          (5): ReLU()\n",
       "        )\n",
       "      )\n",
       "    )\n",
       "    (stgc6): STConvBlock(\n",
       "      (sgc): SpatialGraphConvLayer(\n",
       "        (conv): Conv2d(64, 192, kernel_size=(1, 1), stride=(1, 1))\n",
       "      )\n",
       "      (tgc): TemporalConvLayer(\n",
       "        (block): Sequential(\n",
       "          (0): BatchNorm2d(64, eps=1e-05, momentum=0.1, affine=True, track_running_stats=True)\n",
       "          (1): ReLU()\n",
       "          (2): Dropout(p=0.5, inplace=False)\n",
       "          (3): Conv2d(64, 64, kernel_size=(9, 1), stride=(1, 1), padding=(4, 0))\n",
       "          (4): BatchNorm2d(64, eps=1e-05, momentum=0.1, affine=True, track_running_stats=True)\n",
       "          (5): ReLU()\n",
       "        )\n",
       "      )\n",
       "    )\n",
       "    (stgc7): STConvBlock(\n",
       "      (sgc): SpatialGraphConvLayer(\n",
       "        (conv): Conv2d(64, 192, kernel_size=(1, 1), stride=(1, 1))\n",
       "      )\n",
       "      (tgc): TemporalConvLayer(\n",
       "        (block): Sequential(\n",
       "          (0): BatchNorm2d(64, eps=1e-05, momentum=0.1, affine=True, track_running_stats=True)\n",
       "          (1): ReLU()\n",
       "          (2): Dropout(p=0.5, inplace=False)\n",
       "          (3): Conv2d(64, 64, kernel_size=(9, 1), stride=(1, 1), padding=(4, 0))\n",
       "          (4): BatchNorm2d(64, eps=1e-05, momentum=0.1, affine=True, track_running_stats=True)\n",
       "          (5): ReLU()\n",
       "        )\n",
       "      )\n",
       "    )\n",
       "    (stgc8): STConvBlock(\n",
       "      (sgc): SpatialGraphConvLayer(\n",
       "        (conv): Conv2d(64, 192, kernel_size=(1, 1), stride=(1, 1))\n",
       "      )\n",
       "      (tgc): TemporalConvLayer(\n",
       "        (block): Sequential(\n",
       "          (0): BatchNorm2d(64, eps=1e-05, momentum=0.1, affine=True, track_running_stats=True)\n",
       "          (1): ReLU()\n",
       "          (2): Dropout(p=0.5, inplace=False)\n",
       "          (3): Conv2d(64, 64, kernel_size=(9, 1), stride=(1, 1), padding=(4, 0))\n",
       "          (4): BatchNorm2d(64, eps=1e-05, momentum=0.1, affine=True, track_running_stats=True)\n",
       "          (5): ReLU()\n",
       "        )\n",
       "      )\n",
       "    )\n",
       "    (stgc9): STConvBlock(\n",
       "      (sgc): SpatialGraphConvLayer(\n",
       "        (conv): Conv2d(64, 192, kernel_size=(1, 1), stride=(1, 1))\n",
       "      )\n",
       "      (tgc): TemporalConvLayer(\n",
       "        (block): Sequential(\n",
       "          (0): BatchNorm2d(64, eps=1e-05, momentum=0.1, affine=True, track_running_stats=True)\n",
       "          (1): ReLU()\n",
       "          (2): Dropout(p=0.5, inplace=False)\n",
       "          (3): Conv2d(64, 64, kernel_size=(9, 1), stride=(1, 1), padding=(4, 0))\n",
       "          (4): BatchNorm2d(64, eps=1e-05, momentum=0.1, affine=True, track_running_stats=True)\n",
       "          (5): ReLU()\n",
       "        )\n",
       "      )\n",
       "    )\n",
       "    (stgc10): STConvBlock(\n",
       "      (sgc): SpatialGraphConvLayer(\n",
       "        (conv): Conv2d(64, 192, kernel_size=(1, 1), stride=(1, 1))\n",
       "      )\n",
       "      (tgc): TemporalConvLayer(\n",
       "        (block): Sequential(\n",
       "          (0): BatchNorm2d(64, eps=1e-05, momentum=0.1, affine=True, track_running_stats=True)\n",
       "          (1): ReLU()\n",
       "          (2): Dropout(p=0.5, inplace=False)\n",
       "          (3): Conv2d(64, 64, kernel_size=(9, 1), stride=(1, 1), padding=(4, 0))\n",
       "          (4): BatchNorm2d(64, eps=1e-05, momentum=0.1, affine=True, track_running_stats=True)\n",
       "          (5): ReLU()\n",
       "        )\n",
       "      )\n",
       "    )\n",
       "    (stgc11): STConvBlock(\n",
       "      (sgc): SpatialGraphConvLayer(\n",
       "        (conv): Conv2d(64, 192, kernel_size=(1, 1), stride=(1, 1))\n",
       "      )\n",
       "      (tgc): TemporalConvLayer(\n",
       "        (block): Sequential(\n",
       "          (0): BatchNorm2d(64, eps=1e-05, momentum=0.1, affine=True, track_running_stats=True)\n",
       "          (1): ReLU()\n",
       "          (2): Dropout(p=0.5, inplace=False)\n",
       "          (3): Conv2d(64, 64, kernel_size=(9, 1), stride=(1, 1), padding=(4, 0))\n",
       "          (4): BatchNorm2d(64, eps=1e-05, momentum=0.1, affine=True, track_running_stats=True)\n",
       "          (5): ReLU()\n",
       "        )\n",
       "      )\n",
       "    )\n",
       "    (stgc12): STConvBlock(\n",
       "      (sgc): SpatialGraphConvLayer(\n",
       "        (conv): Conv2d(64, 192, kernel_size=(1, 1), stride=(1, 1))\n",
       "      )\n",
       "      (tgc): TemporalConvLayer(\n",
       "        (block): Sequential(\n",
       "          (0): BatchNorm2d(64, eps=1e-05, momentum=0.1, affine=True, track_running_stats=True)\n",
       "          (1): ReLU()\n",
       "          (2): Dropout(p=0.5, inplace=False)\n",
       "          (3): Conv2d(64, 64, kernel_size=(9, 1), stride=(1, 1), padding=(4, 0))\n",
       "          (4): BatchNorm2d(64, eps=1e-05, momentum=0.1, affine=True, track_running_stats=True)\n",
       "          (5): ReLU()\n",
       "        )\n",
       "      )\n",
       "    )\n",
       "    (fc): Conv2d(64, 11, kernel_size=(1, 17), stride=(1, 1))\n",
       "  )\n",
       "  (criterion): CrossEntropyLoss()\n",
       ")"
      ]
     },
     "execution_count": 10,
     "metadata": {},
     "output_type": "execute_result"
    }
   ],
   "source": [
    "plmodel"
   ]
  },
  {
   "cell_type": "markdown",
   "id": "cdac454d-d972-446e-9e3b-24da61ffac60",
   "metadata": {},
   "source": [
    "### 3-2: Initialize Trainer"
   ]
  },
  {
   "cell_type": "code",
   "execution_count": 11,
   "id": "04df6672-0398-4daa-b38e-5b04e428db63",
   "metadata": {},
   "outputs": [
    {
     "name": "stderr",
     "output_type": "stream",
     "text": [
      "GPU available: True, used: True\n",
      "TPU available: False, using: 0 TPU cores\n",
      "IPU available: False, using: 0 IPUs\n",
      "HPU available: False, using: 0 HPUs\n"
     ]
    }
   ],
   "source": [
    "# num_epoch = cfg.train.debug.epochs if cfg.debug else cfg.train.epochs\n",
    "num_epoch = 10\n",
    "\n",
    "checkpoint_callback = pl.callbacks.ModelCheckpoint(\n",
    "    save_top_k=0,\n",
    "    save_last=True,\n",
    "    monitor=None,\n",
    ")\n",
    "\n",
    "trainer = pl.Trainer(\n",
    "    gpus=[0],\n",
    "    max_epochs=num_epoch,\n",
    "    logger=False,  # disable logging module\n",
    "    default_root_dir=logdir,\n",
    "    enable_progress_bar=False,  # disable progress bar\n",
    "    enable_checkpointing=True,\n",
    "    callbacks=[checkpoint_callback],\n",
    ")\n",
    "logger.debug(f\"logdir = {logdir}\")"
   ]
  },
  {
   "cell_type": "markdown",
   "id": "75623893-5561-442c-b7b9-6612e4781651",
   "metadata": {},
   "source": [
    "### 3-3: Start training!"
   ]
  },
  {
   "cell_type": "code",
   "execution_count": 12,
   "id": "ccc3b111-16b1-41a1-b8a0-60112611968a",
   "metadata": {},
   "outputs": [
    {
     "name": "stderr",
     "output_type": "stream",
     "text": [
      "2022-07-10 15:37:08 | INFO | __main__ | Start training for 10 epochs.\n",
      "2022-07-10 15:37:32 | WARNING | openpack_torch.data.datasets | No preprocessing is applied.\n",
      "2022-07-10 15:37:34 | WARNING | openpack_torch.data.datasets | No preprocessing is applied.\n",
      "2022-07-10 15:37:35 | WARNING | openpack_torch.data.datasets | No preprocessing is applied.\n",
      "2022-07-10 15:37:35 | INFO | openpack_torch.data.datamodule | dataset[train]: OpenPackKeypoint(index=528, num_sequence=15)\n",
      "2022-07-10 15:37:35 | INFO | openpack_torch.data.datamodule | dataset[val]: {'U0106-S0200': <openpack_torch.data.datasets.OpenPackKeypoint object at 0x7f1258bf8eb0>, 'U0106-S0400': <openpack_torch.data.datasets.OpenPackKeypoint object at 0x7f1258a3dca0>}\n",
      "2022-07-10 15:37:35 | INFO | openpack_torch.data.datamodule | dataset[test]: None\n",
      "2022-07-10 15:37:36 | INFO | openpack_torch.data.datamodule | dataset[submission]: None\n",
      "LOCAL_RANK: 0 - CUDA_VISIBLE_DEVICES: [0]\n",
      "\n",
      "  | Name      | Type             | Params\n",
      "-----------------------------------------------\n",
      "0 | net       | STGCN4Seg        | 498 K \n",
      "1 | criterion | CrossEntropyLoss | 0     \n",
      "-----------------------------------------------\n",
      "498 K     Trainable params\n",
      "0         Non-trainable params\n",
      "498 K     Total params\n",
      "1.992     Total estimated model params size (MB)\n",
      "2022-07-10 15:37:36 | INFO | openpack_torch.lightning | Epoch[000] TRAIN: loss=-1.0000, acc=-1.0000 | VAL: loss= 2.4044, acc= 0.0000\n",
      "2022-07-10 15:37:54 | INFO | openpack_torch.lightning | Epoch[000] TRAIN: loss=-1.0000, acc=-1.0000 | VAL: loss= 2.4288, acc= 0.2972\n",
      "2022-07-10 15:38:11 | INFO | openpack_torch.lightning | Epoch[001] TRAIN: loss= 2.0453, acc= 0.2515 | VAL: loss= 2.4991, acc= 0.2953\n",
      "2022-07-10 15:38:29 | INFO | openpack_torch.lightning | Epoch[002] TRAIN: loss= 1.6812, acc= 0.3869 | VAL: loss= 1.9482, acc= 0.3599\n",
      "2022-07-10 15:38:47 | INFO | openpack_torch.lightning | Epoch[003] TRAIN: loss= 1.5179, acc= 0.4398 | VAL: loss= 1.9236, acc= 0.4099\n",
      "2022-07-10 15:39:05 | INFO | openpack_torch.lightning | Epoch[004] TRAIN: loss= 1.3680, acc= 0.5052 | VAL: loss= 1.5080, acc= 0.4244\n",
      "2022-07-10 15:39:23 | INFO | openpack_torch.lightning | Epoch[005] TRAIN: loss= 1.3020, acc= 0.5473 | VAL: loss= 1.3523, acc= 0.4841\n",
      "2022-07-10 15:39:41 | INFO | openpack_torch.lightning | Epoch[006] TRAIN: loss= 1.1496, acc= 0.5893 | VAL: loss= 1.5241, acc= 0.5112\n",
      "2022-07-10 15:39:59 | INFO | openpack_torch.lightning | Epoch[007] TRAIN: loss= 1.0472, acc= 0.6389 | VAL: loss= 1.3471, acc= 0.5548\n",
      "2022-07-10 15:40:18 | INFO | openpack_torch.lightning | Epoch[008] TRAIN: loss= 0.9543, acc= 0.6720 | VAL: loss= 1.5317, acc= 0.4905\n",
      "2022-07-10 15:40:36 | INFO | openpack_torch.lightning | Epoch[009] TRAIN: loss= 0.8944, acc= 0.6983 | VAL: loss= 1.3662, acc= 0.5248\n",
      "2022-07-10 15:40:37 | INFO | __main__ | Finish training!\n"
     ]
    }
   ],
   "source": [
    "logger.info(f\"Start training for {num_epoch} epochs.\")\n",
    "trainer.fit(plmodel, datamodule)\n",
    "logger.info(\"Finish training!\")"
   ]
  },
  {
   "cell_type": "markdown",
   "id": "c5132389-23b1-4803-abc1-881028061e72",
   "metadata": {},
   "source": [
    "### 3-4: Plot Training Curve"
   ]
  },
  {
   "cell_type": "code",
   "execution_count": 13,
   "id": "5fe6a607-6921-4440-a03b-03f35b72ff2b",
   "metadata": {},
   "outputs": [],
   "source": [
    "df = pd.concat([\n",
    "    pd.DataFrame(plmodel.log[\"train\"]),\n",
    "    pd.DataFrame(plmodel.log[\"val\"]),\n",
    "],axis=1,)\n",
    "df.index.name = \"epoch\""
   ]
  },
  {
   "cell_type": "code",
   "execution_count": 14,
   "id": "65b6eb10-9584-483b-8a44-deb539528f90",
   "metadata": {},
   "outputs": [
    {
     "data": {
      "text/html": [
       "<div>\n",
       "<style scoped>\n",
       "    .dataframe tbody tr th:only-of-type {\n",
       "        vertical-align: middle;\n",
       "    }\n",
       "\n",
       "    .dataframe tbody tr th {\n",
       "        vertical-align: top;\n",
       "    }\n",
       "\n",
       "    .dataframe thead th {\n",
       "        text-align: right;\n",
       "    }\n",
       "</style>\n",
       "<table border=\"1\" class=\"dataframe\">\n",
       "  <thead>\n",
       "    <tr style=\"text-align: right;\">\n",
       "      <th></th>\n",
       "      <th>train/loss</th>\n",
       "      <th>train/acc</th>\n",
       "      <th>val/loss</th>\n",
       "      <th>val/acc</th>\n",
       "    </tr>\n",
       "    <tr>\n",
       "      <th>epoch</th>\n",
       "      <th></th>\n",
       "      <th></th>\n",
       "      <th></th>\n",
       "      <th></th>\n",
       "    </tr>\n",
       "  </thead>\n",
       "  <tbody>\n",
       "    <tr>\n",
       "      <th>0</th>\n",
       "      <td>2.045326</td>\n",
       "      <td>0.251524</td>\n",
       "      <td>2.404429</td>\n",
       "      <td>0.000000</td>\n",
       "    </tr>\n",
       "    <tr>\n",
       "      <th>1</th>\n",
       "      <td>1.681166</td>\n",
       "      <td>0.386853</td>\n",
       "      <td>2.428761</td>\n",
       "      <td>0.297182</td>\n",
       "    </tr>\n",
       "    <tr>\n",
       "      <th>2</th>\n",
       "      <td>1.517893</td>\n",
       "      <td>0.439834</td>\n",
       "      <td>2.499120</td>\n",
       "      <td>0.295287</td>\n",
       "    </tr>\n",
       "    <tr>\n",
       "      <th>3</th>\n",
       "      <td>1.368032</td>\n",
       "      <td>0.505177</td>\n",
       "      <td>1.948158</td>\n",
       "      <td>0.359938</td>\n",
       "    </tr>\n",
       "    <tr>\n",
       "      <th>4</th>\n",
       "      <td>1.301980</td>\n",
       "      <td>0.547270</td>\n",
       "      <td>1.923607</td>\n",
       "      <td>0.409947</td>\n",
       "    </tr>\n",
       "  </tbody>\n",
       "</table>\n",
       "</div>"
      ],
      "text/plain": [
       "       train/loss  train/acc  val/loss   val/acc\n",
       "epoch                                           \n",
       "0        2.045326   0.251524  2.404429  0.000000\n",
       "1        1.681166   0.386853  2.428761  0.297182\n",
       "2        1.517893   0.439834  2.499120  0.295287\n",
       "3        1.368032   0.505177  1.948158  0.359938\n",
       "4        1.301980   0.547270  1.923607  0.409947"
      ]
     },
     "execution_count": 14,
     "metadata": {},
     "output_type": "execute_result"
    }
   ],
   "source": [
    "df.head()"
   ]
  },
  {
   "cell_type": "markdown",
   "id": "2eab3914-ef01-4115-bd75-2d0030f0c5f8",
   "metadata": {},
   "source": [
    "Training Log"
   ]
  },
  {
   "cell_type": "code",
   "execution_count": 15,
   "id": "61b0b6ad-9a6b-4264-8abd-8db8dcf477e1",
   "metadata": {},
   "outputs": [
    {
     "data": {
      "image/png": "[encoded data removed]",
      "text/plain": [
       "<Figure size 432x288 with 1 Axes>"
      ]
     },
     "metadata": {
      "needs_background": "light"
     },
     "output_type": "display_data"
    }
   ],
   "source": [
    "df[[\"train/loss\", \"val/loss\"]].plot()\n",
    "plt.show()"
   ]
  },
  {
   "cell_type": "markdown",
   "id": "c752adb3-240d-4d2f-9b4f-fc0352f51a84",
   "metadata": {},
   "source": [
    "Test Log"
   ]
  },
  {
   "cell_type": "code",
   "execution_count": 16,
   "id": "3b1a002a-2ff5-4bf6-a1b2-763d95bbaf08",
   "metadata": {},
   "outputs": [
    {
     "data": {
      "image/png": "[encoded data removed]",
      "text/plain": [
       "<Figure size 432x288 with 1 Axes>"
      ]
     },
     "metadata": {
      "needs_background": "light"
     },
     "output_type": "display_data"
    }
   ],
   "source": [
    "df[[\"train/acc\", \"val/acc\"]].plot()\n",
    "plt.show()"
   ]
  },
  {
   "cell_type": "code",
   "execution_count": null,
   "id": "776cf034-fef1-4ede-be56-2c6d97189e15",
   "metadata": {},
   "outputs": [],
   "source": []
  },
  {
   "cell_type": "markdown",
   "id": "6c7ed83f-6e92-4740-8766-7599d65643cd",
   "metadata": {},
   "source": [
    "## [4] Test"
   ]
  },
  {
   "cell_type": "markdown",
   "id": "d7101f3f-1ff5-442c-bd4a-fd82ad5c7e13",
   "metadata": {},
   "source": [
    "### 4-1: Get prediction results for each sequences."
   ]
  },
  {
   "cell_type": "code",
   "execution_count": 17,
   "id": "6ec859ea-fc23-4f48-a611-8253523ad245",
   "metadata": {},
   "outputs": [
    {
     "name": "stderr",
     "output_type": "stream",
     "text": [
      "2022-07-10 15:40:40 | WARNING | openpack_torch.data.datasets | No preprocessing is applied.\n",
      "2022-07-10 15:40:41 | WARNING | openpack_torch.data.datasets | No preprocessing is applied.\n",
      "2022-07-10 15:40:42 | WARNING | openpack_torch.data.datasets | No preprocessing is applied.\n",
      "2022-07-10 15:40:42 | INFO | openpack_torch.data.datamodule | dataset[train]: None\n",
      "2022-07-10 15:40:42 | INFO | openpack_torch.data.datamodule | dataset[val]: None\n",
      "2022-07-10 15:40:42 | INFO | openpack_torch.data.datamodule | dataset[test]: {'U0106-S0100': <openpack_torch.data.datasets.OpenPackKeypoint object at 0x7f12224cd910>, 'U0106-S0300': <openpack_torch.data.datasets.OpenPackKeypoint object at 0x7f1258cb8610>, 'U0106-S0500': <openpack_torch.data.datasets.OpenPackKeypoint object at 0x7f1258bf5940>}\n",
      "2022-07-10 15:40:42 | INFO | openpack_torch.data.datamodule | dataset[submission]: None\n",
      "2022-07-10 15:40:42 | INFO | __main__ | test on U0106-S0100\n",
      "2022-07-10 15:40:44 | WARNING | openpack_torch.data.datasets | No preprocessing is applied.\n",
      "2022-07-10 15:40:46 | WARNING | openpack_torch.data.datasets | No preprocessing is applied.\n",
      "2022-07-10 15:40:47 | WARNING | openpack_torch.data.datasets | No preprocessing is applied.\n",
      "2022-07-10 15:40:47 | INFO | openpack_torch.data.datamodule | dataset[train]: None\n",
      "2022-07-10 15:40:47 | INFO | openpack_torch.data.datamodule | dataset[val]: None\n",
      "2022-07-10 15:40:47 | INFO | openpack_torch.data.datamodule | dataset[test]: {'U0106-S0100': <openpack_torch.data.datasets.OpenPackKeypoint object at 0x7f1258bf5370>, 'U0106-S0300': <openpack_torch.data.datasets.OpenPackKeypoint object at 0x7f1258bf5cd0>, 'U0106-S0500': <openpack_torch.data.datasets.OpenPackKeypoint object at 0x7f1258bf5e80>}\n",
      "2022-07-10 15:40:47 | INFO | openpack_torch.data.datamodule | dataset[submission]: None\n",
      "LOCAL_RANK: 0 - CUDA_VISIBLE_DEVICES: [0]\n",
      "2022-07-10 15:40:47 | INFO | __main__ | save t[shape=(50, 900)] to /content/data/log/openpack-2d-kpt/STGCN4Seg/I01-EXP1-V1-nb/pred/U0106-S0100/t.npy\n",
      "2022-07-10 15:40:47 | INFO | __main__ | save y[shape=(50, 11, 900)] to /content/data/log/openpack-2d-kpt/STGCN4Seg/I01-EXP1-V1-nb/pred/U0106-S0100/y.npy\n",
      "2022-07-10 15:40:48 | INFO | __main__ | save unixtime[shape=(50, 900)] to /content/data/log/openpack-2d-kpt/STGCN4Seg/I01-EXP1-V1-nb/pred/U0106-S0100/unixtime.npy\n",
      "2022-07-10 15:40:48 | INFO | __main__ | test on U0106-S0300\n",
      "2022-07-10 15:40:50 | WARNING | openpack_torch.data.datasets | No preprocessing is applied.\n",
      "2022-07-10 15:40:51 | WARNING | openpack_torch.data.datasets | No preprocessing is applied.\n",
      "2022-07-10 15:40:52 | WARNING | openpack_torch.data.datasets | No preprocessing is applied.\n",
      "2022-07-10 15:40:52 | INFO | openpack_torch.data.datamodule | dataset[train]: None\n",
      "2022-07-10 15:40:52 | INFO | openpack_torch.data.datamodule | dataset[val]: None\n",
      "2022-07-10 15:40:52 | INFO | openpack_torch.data.datamodule | dataset[test]: {'U0106-S0100': <openpack_torch.data.datasets.OpenPackKeypoint object at 0x7f1258c55ee0>, 'U0106-S0300': <openpack_torch.data.datasets.OpenPackKeypoint object at 0x7f1258c7bd90>, 'U0106-S0500': <openpack_torch.data.datasets.OpenPackKeypoint object at 0x7f1258c7e370>}\n",
      "2022-07-10 15:40:52 | INFO | openpack_torch.data.datamodule | dataset[submission]: None\n",
      "LOCAL_RANK: 0 - CUDA_VISIBLE_DEVICES: [0]\n",
      "2022-07-10 15:40:53 | INFO | __main__ | save t[shape=(35, 900)] to /content/data/log/openpack-2d-kpt/STGCN4Seg/I01-EXP1-V1-nb/pred/U0106-S0300/t.npy\n",
      "2022-07-10 15:40:53 | INFO | __main__ | save y[shape=(35, 11, 900)] to /content/data/log/openpack-2d-kpt/STGCN4Seg/I01-EXP1-V1-nb/pred/U0106-S0300/y.npy\n",
      "2022-07-10 15:40:53 | INFO | __main__ | save unixtime[shape=(35, 900)] to /content/data/log/openpack-2d-kpt/STGCN4Seg/I01-EXP1-V1-nb/pred/U0106-S0300/unixtime.npy\n",
      "2022-07-10 15:40:53 | INFO | __main__ | test on U0106-S0500\n",
      "2022-07-10 15:40:55 | WARNING | openpack_torch.data.datasets | No preprocessing is applied.\n",
      "2022-07-10 15:40:57 | WARNING | openpack_torch.data.datasets | No preprocessing is applied.\n",
      "2022-07-10 15:40:57 | WARNING | openpack_torch.data.datasets | No preprocessing is applied.\n",
      "2022-07-10 15:40:57 | INFO | openpack_torch.data.datamodule | dataset[train]: None\n",
      "2022-07-10 15:40:57 | INFO | openpack_torch.data.datamodule | dataset[val]: None\n",
      "2022-07-10 15:40:57 | INFO | openpack_torch.data.datamodule | dataset[test]: {'U0106-S0100': <openpack_torch.data.datasets.OpenPackKeypoint object at 0x7f1258c556a0>, 'U0106-S0300': <openpack_torch.data.datasets.OpenPackKeypoint object at 0x7f12224c1dc0>, 'U0106-S0500': <openpack_torch.data.datasets.OpenPackKeypoint object at 0x7f1258c6a3d0>}\n",
      "2022-07-10 15:40:57 | INFO | openpack_torch.data.datamodule | dataset[submission]: None\n",
      "LOCAL_RANK: 0 - CUDA_VISIBLE_DEVICES: [0]\n",
      "2022-07-10 15:40:58 | INFO | __main__ | save t[shape=(18, 900)] to /content/data/log/openpack-2d-kpt/STGCN4Seg/I01-EXP1-V1-nb/pred/U0106-S0500/t.npy\n",
      "2022-07-10 15:40:58 | INFO | __main__ | save y[shape=(18, 11, 900)] to /content/data/log/openpack-2d-kpt/STGCN4Seg/I01-EXP1-V1-nb/pred/U0106-S0500/y.npy\n",
      "2022-07-10 15:40:58 | INFO | __main__ | save unixtime[shape=(18, 900)] to /content/data/log/openpack-2d-kpt/STGCN4Seg/I01-EXP1-V1-nb/pred/U0106-S0500/unixtime.npy\n"
     ]
    }
   ],
   "source": [
    "datamodule.setup(\"test\")\n",
    "dataloaders = datamodule.test_dataloader()\n",
    "split = cfg.dataset.split.test\n",
    "\n",
    "\n",
    "outputs = dict()\n",
    "for i, dataloader in enumerate(dataloaders):\n",
    "    user, session = split[i]\n",
    "    logger.info(f\"test on {user}-{session}\")\n",
    "\n",
    "    trainer.test(plmodel, dataloader)\n",
    "\n",
    "    # save model outputs\n",
    "    pred_dir = Path(\n",
    "        cfg.path.logdir.predict.format(user=user, session=session)\n",
    "    )\n",
    "    pred_dir.mkdir(parents=True, exist_ok=True)\n",
    "\n",
    "    for key, arr in plmodel.test_results.items():\n",
    "        path = Path(pred_dir, f\"{key}.npy\")\n",
    "        np.save(path, arr)\n",
    "        logger.info(f\"save {key}[shape={arr.shape}] to {path}\")\n",
    "\n",
    "    outputs[f\"{user}-{session}\"] = {\n",
    "        \"t_idx\": plmodel.test_results.get(\"t\"),\n",
    "        \"y\": plmodel.test_results.get(\"y\"),\n",
    "        \"unixtime\": plmodel.test_results.get(\"unixtime\"),\n",
    "    }"
   ]
  },
  {
   "cell_type": "markdown",
   "id": "5780dc2a-e86c-4110-a2ef-3ee5d7951504",
   "metadata": {},
   "source": [
    "### 4-2: Evaluate"
   ]
  },
  {
   "cell_type": "code",
   "execution_count": 18,
   "id": "c61ad2c2-d92c-4161-9a0c-62677379ec8b",
   "metadata": {},
   "outputs": [
    {
     "name": "stderr",
     "output_type": "stream",
     "text": [
      "/opt/conda/lib/python3.8/site-packages/openpack_toolkit/codalab/operation_segmentation/eval.py:55: UserWarning: ignore_class_id (ID8100) exists in y_id.\n",
      "  warnings.warn(\n",
      "/opt/conda/lib/python3.8/site-packages/openpack_toolkit/codalab/operation_segmentation/eval.py:72: UserWarning: y_id includes unknown class IDs. expected class IDs are (100, 200, 300, 400, 500, 600, 700, 800, 900, 1000), but got {800, 100, 900, 8100, 200, 1000, 300, 400, 500, 600, 700}.\n",
      "  warnings.warn(\n",
      "/opt/conda/lib/python3.8/site-packages/openpack_toolkit/codalab/operation_segmentation/eval.py:55: UserWarning: ignore_class_id (ID8100) exists in y_id.\n",
      "  warnings.warn(\n",
      "/opt/conda/lib/python3.8/site-packages/openpack_toolkit/codalab/operation_segmentation/eval.py:72: UserWarning: y_id includes unknown class IDs. expected class IDs are (100, 200, 300, 400, 500, 600, 700, 800, 900, 1000), but got {800, 100, 900, 8100, 200, 1000, 300, 400, 500, 600, 700}.\n",
      "  warnings.warn(\n",
      "/opt/conda/lib/python3.8/site-packages/openpack_toolkit/codalab/operation_segmentation/eval.py:55: UserWarning: ignore_class_id (ID8100) exists in y_id.\n",
      "  warnings.warn(\n",
      "/opt/conda/lib/python3.8/site-packages/openpack_toolkit/codalab/operation_segmentation/eval.py:72: UserWarning: y_id includes unknown class IDs. expected class IDs are (100, 200, 300, 400, 500, 600, 700, 800, 900, 1000), but got {800, 100, 900, 8100, 200, 1000, 300, 400, 500, 600, 700}.\n",
      "  warnings.warn(\n"
     ]
    }
   ],
   "source": [
    "# compute performance summary\n",
    "df_summary = eval_operation_segmentation_wrapper(\n",
    "    outputs, OPENPACK_OPERATIONS,\n",
    ")"
   ]
  },
  {
   "cell_type": "code",
   "execution_count": 19,
   "id": "72a70472-4511-4c56-bda2-72fe3a71dea4",
   "metadata": {},
   "outputs": [
    {
     "data": {
      "text/html": [
       "<div>\n",
       "<style scoped>\n",
       "    .dataframe tbody tr th:only-of-type {\n",
       "        vertical-align: middle;\n",
       "    }\n",
       "\n",
       "    .dataframe tbody tr th {\n",
       "        vertical-align: top;\n",
       "    }\n",
       "\n",
       "    .dataframe thead th {\n",
       "        text-align: right;\n",
       "    }\n",
       "</style>\n",
       "<table border=\"1\" class=\"dataframe\">\n",
       "  <thead>\n",
       "    <tr style=\"text-align: right;\">\n",
       "      <th></th>\n",
       "      <th>name</th>\n",
       "      <th>id</th>\n",
       "      <th>precision</th>\n",
       "      <th>recall</th>\n",
       "      <th>f1</th>\n",
       "      <th>support</th>\n",
       "      <th>key</th>\n",
       "    </tr>\n",
       "  </thead>\n",
       "  <tbody>\n",
       "    <tr>\n",
       "      <th>36</th>\n",
       "      <td>avg/macro</td>\n",
       "      <td>-1</td>\n",
       "      <td>0.566502</td>\n",
       "      <td>0.521962</td>\n",
       "      <td>0.520421</td>\n",
       "      <td>None</td>\n",
       "      <td>all</td>\n",
       "    </tr>\n",
       "    <tr>\n",
       "      <th>37</th>\n",
       "      <td>avg/weighted</td>\n",
       "      <td>-1</td>\n",
       "      <td>0.551244</td>\n",
       "      <td>0.531078</td>\n",
       "      <td>0.520725</td>\n",
       "      <td>None</td>\n",
       "      <td>all</td>\n",
       "    </tr>\n",
       "    <tr>\n",
       "      <th>38</th>\n",
       "      <td>Picking</td>\n",
       "      <td>100</td>\n",
       "      <td>0.865510</td>\n",
       "      <td>0.707447</td>\n",
       "      <td>0.778537</td>\n",
       "      <td>564</td>\n",
       "      <td>all</td>\n",
       "    </tr>\n",
       "    <tr>\n",
       "      <th>39</th>\n",
       "      <td>RelocateItemLabel</td>\n",
       "      <td>200</td>\n",
       "      <td>0.475458</td>\n",
       "      <td>0.693376</td>\n",
       "      <td>0.564103</td>\n",
       "      <td>936</td>\n",
       "      <td>all</td>\n",
       "    </tr>\n",
       "    <tr>\n",
       "      <th>40</th>\n",
       "      <td>AssembleBox</td>\n",
       "      <td>300</td>\n",
       "      <td>0.565027</td>\n",
       "      <td>0.497594</td>\n",
       "      <td>0.529171</td>\n",
       "      <td>1039</td>\n",
       "      <td>all</td>\n",
       "    </tr>\n",
       "    <tr>\n",
       "      <th>41</th>\n",
       "      <td>InsertItems</td>\n",
       "      <td>400</td>\n",
       "      <td>0.504687</td>\n",
       "      <td>0.655172</td>\n",
       "      <td>0.570168</td>\n",
       "      <td>493</td>\n",
       "      <td>all</td>\n",
       "    </tr>\n",
       "    <tr>\n",
       "      <th>42</th>\n",
       "      <td>CloseBox</td>\n",
       "      <td>500</td>\n",
       "      <td>0.335034</td>\n",
       "      <td>0.298938</td>\n",
       "      <td>0.315958</td>\n",
       "      <td>659</td>\n",
       "      <td>all</td>\n",
       "    </tr>\n",
       "    <tr>\n",
       "      <th>43</th>\n",
       "      <td>AttachBoxLabel</td>\n",
       "      <td>600</td>\n",
       "      <td>0.417749</td>\n",
       "      <td>0.583082</td>\n",
       "      <td>0.486759</td>\n",
       "      <td>331</td>\n",
       "      <td>all</td>\n",
       "    </tr>\n",
       "    <tr>\n",
       "      <th>44</th>\n",
       "      <td>ScanLabel</td>\n",
       "      <td>700</td>\n",
       "      <td>0.503751</td>\n",
       "      <td>0.692194</td>\n",
       "      <td>0.583127</td>\n",
       "      <td>679</td>\n",
       "      <td>all</td>\n",
       "    </tr>\n",
       "    <tr>\n",
       "      <th>45</th>\n",
       "      <td>AttachShippingLabel</td>\n",
       "      <td>800</td>\n",
       "      <td>0.814607</td>\n",
       "      <td>0.313175</td>\n",
       "      <td>0.452418</td>\n",
       "      <td>463</td>\n",
       "      <td>all</td>\n",
       "    </tr>\n",
       "    <tr>\n",
       "      <th>46</th>\n",
       "      <td>PutOnRack</td>\n",
       "      <td>900</td>\n",
       "      <td>0.896679</td>\n",
       "      <td>0.671271</td>\n",
       "      <td>0.767773</td>\n",
       "      <td>362</td>\n",
       "      <td>all</td>\n",
       "    </tr>\n",
       "    <tr>\n",
       "      <th>47</th>\n",
       "      <td>Fill-outOrder</td>\n",
       "      <td>1000</td>\n",
       "      <td>0.286517</td>\n",
       "      <td>0.107368</td>\n",
       "      <td>0.156202</td>\n",
       "      <td>475</td>\n",
       "      <td>all</td>\n",
       "    </tr>\n",
       "  </tbody>\n",
       "</table>\n",
       "</div>"
      ],
      "text/plain": [
       "                   name    id  precision    recall        f1 support  key\n",
       "36            avg/macro    -1   0.566502  0.521962  0.520421    None  all\n",
       "37         avg/weighted    -1   0.551244  0.531078  0.520725    None  all\n",
       "38              Picking   100   0.865510  0.707447  0.778537     564  all\n",
       "39    RelocateItemLabel   200   0.475458  0.693376  0.564103     936  all\n",
       "40          AssembleBox   300   0.565027  0.497594  0.529171    1039  all\n",
       "41          InsertItems   400   0.504687  0.655172  0.570168     493  all\n",
       "42             CloseBox   500   0.335034  0.298938  0.315958     659  all\n",
       "43       AttachBoxLabel   600   0.417749  0.583082  0.486759     331  all\n",
       "44            ScanLabel   700   0.503751  0.692194  0.583127     679  all\n",
       "45  AttachShippingLabel   800   0.814607  0.313175  0.452418     463  all\n",
       "46            PutOnRack   900   0.896679  0.671271  0.767773     362  all\n",
       "47        Fill-outOrder  1000   0.286517  0.107368  0.156202     475  all"
      ]
     },
     "execution_count": 19,
     "metadata": {},
     "output_type": "execute_result"
    }
   ],
   "source": [
    "df_summary[df_summary[\"key\"]==\"all\"]"
   ]
  },
  {
   "cell_type": "code",
   "execution_count": null,
   "id": "fcfd8be1-0c70-46a9-bfec-934a4bcec2ed",
   "metadata": {},
   "outputs": [],
   "source": []
  },
  {
   "cell_type": "markdown",
   "id": "6c71ca89-3178-490d-a93b-9030240f02a3",
   "metadata": {},
   "source": [
    "## [5] Submission"
   ]
  },
  {
   "cell_type": "markdown",
   "id": "808de226-e597-472d-a22e-ad12fe3fa08b",
   "metadata": {},
   "source": [
    "### 5-1: Get prediction for test data."
   ]
  },
  {
   "cell_type": "code",
   "execution_count": 20,
   "id": "f873710b-cd64-44d0-878e-be073a81568d",
   "metadata": {},
   "outputs": [
    {
     "name": "stderr",
     "output_type": "stream",
     "text": [
      "2022-07-10 15:41:00 | WARNING | openpack_torch.data.datasets | No preprocessing is applied.\n",
      "2022-07-10 15:41:01 | WARNING | openpack_torch.data.datasets | No preprocessing is applied.\n",
      "2022-07-10 15:41:02 | WARNING | openpack_torch.data.datasets | No preprocessing is applied.\n",
      "2022-07-10 15:41:04 | WARNING | openpack_torch.data.datasets | No preprocessing is applied.\n",
      "2022-07-10 15:41:04 | INFO | openpack_torch.data.datamodule | dataset[train]: None\n",
      "2022-07-10 15:41:04 | INFO | openpack_torch.data.datamodule | dataset[val]: None\n",
      "2022-07-10 15:41:04 | INFO | openpack_torch.data.datamodule | dataset[test]: None\n",
      "2022-07-10 15:41:04 | INFO | openpack_torch.data.datamodule | dataset[submission]: {'U0107-S0100': <openpack_torch.data.datasets.OpenPackKeypoint object at 0x7f1258af3850>, 'U0107-S0200': <openpack_torch.data.datasets.OpenPackKeypoint object at 0x7f1258af3e50>, 'U0107-S0300': <openpack_torch.data.datasets.OpenPackKeypoint object at 0x7f1258af31c0>, 'U0107-S0500': <openpack_torch.data.datasets.OpenPackKeypoint object at 0x7f1258af3910>}\n",
      "2022-07-10 15:41:04 | INFO | __main__ | test on U0107-S0100\n",
      "2022-07-10 15:41:06 | WARNING | openpack_torch.data.datasets | No preprocessing is applied.\n",
      "2022-07-10 15:41:07 | WARNING | openpack_torch.data.datasets | No preprocessing is applied.\n",
      "2022-07-10 15:41:08 | WARNING | openpack_torch.data.datasets | No preprocessing is applied.\n",
      "2022-07-10 15:41:08 | INFO | openpack_torch.data.datamodule | dataset[train]: None\n",
      "2022-07-10 15:41:08 | INFO | openpack_torch.data.datamodule | dataset[val]: None\n",
      "2022-07-10 15:41:08 | INFO | openpack_torch.data.datamodule | dataset[test]: {'U0106-S0100': <openpack_torch.data.datasets.OpenPackKeypoint object at 0x7f1258af3c70>, 'U0106-S0300': <openpack_torch.data.datasets.OpenPackKeypoint object at 0x7f1258af3d00>, 'U0106-S0500': <openpack_torch.data.datasets.OpenPackKeypoint object at 0x7f1258af32e0>}\n",
      "2022-07-10 15:41:08 | INFO | openpack_torch.data.datamodule | dataset[submission]: None\n",
      "LOCAL_RANK: 0 - CUDA_VISIBLE_DEVICES: [0]\n",
      "2022-07-10 15:41:09 | INFO | __main__ | save t[shape=(38, 900)] to /content/data/log/openpack-2d-kpt/STGCN4Seg/I01-EXP1-V1-nb/pred/U0107-S0100/t.npy\n",
      "2022-07-10 15:41:09 | INFO | __main__ | save y[shape=(38, 11, 900)] to /content/data/log/openpack-2d-kpt/STGCN4Seg/I01-EXP1-V1-nb/pred/U0107-S0100/y.npy\n",
      "2022-07-10 15:41:09 | INFO | __main__ | save unixtime[shape=(38, 900)] to /content/data/log/openpack-2d-kpt/STGCN4Seg/I01-EXP1-V1-nb/pred/U0107-S0100/unixtime.npy\n",
      "2022-07-10 15:41:09 | INFO | __main__ | test on U0107-S0200\n",
      "2022-07-10 15:41:11 | WARNING | openpack_torch.data.datasets | No preprocessing is applied.\n",
      "2022-07-10 15:41:13 | WARNING | openpack_torch.data.datasets | No preprocessing is applied.\n",
      "2022-07-10 15:41:13 | WARNING | openpack_torch.data.datasets | No preprocessing is applied.\n",
      "2022-07-10 15:41:13 | INFO | openpack_torch.data.datamodule | dataset[train]: None\n",
      "2022-07-10 15:41:13 | INFO | openpack_torch.data.datamodule | dataset[val]: None\n",
      "2022-07-10 15:41:13 | INFO | openpack_torch.data.datamodule | dataset[test]: {'U0106-S0100': <openpack_torch.data.datasets.OpenPackKeypoint object at 0x7f1258af3e80>, 'U0106-S0300': <openpack_torch.data.datasets.OpenPackKeypoint object at 0x7f1258af3bb0>, 'U0106-S0500': <openpack_torch.data.datasets.OpenPackKeypoint object at 0x7f1258af3d60>}\n",
      "2022-07-10 15:41:13 | INFO | openpack_torch.data.datamodule | dataset[submission]: None\n",
      "LOCAL_RANK: 0 - CUDA_VISIBLE_DEVICES: [0]\n",
      "2022-07-10 15:41:14 | INFO | __main__ | save t[shape=(36, 900)] to /content/data/log/openpack-2d-kpt/STGCN4Seg/I01-EXP1-V1-nb/pred/U0107-S0200/t.npy\n",
      "2022-07-10 15:41:14 | INFO | __main__ | save y[shape=(36, 11, 900)] to /content/data/log/openpack-2d-kpt/STGCN4Seg/I01-EXP1-V1-nb/pred/U0107-S0200/y.npy\n",
      "2022-07-10 15:41:14 | INFO | __main__ | save unixtime[shape=(36, 900)] to /content/data/log/openpack-2d-kpt/STGCN4Seg/I01-EXP1-V1-nb/pred/U0107-S0200/unixtime.npy\n",
      "2022-07-10 15:41:14 | INFO | __main__ | test on U0107-S0300\n",
      "2022-07-10 15:41:16 | WARNING | openpack_torch.data.datasets | No preprocessing is applied.\n",
      "2022-07-10 15:41:18 | WARNING | openpack_torch.data.datasets | No preprocessing is applied.\n",
      "2022-07-10 15:41:19 | WARNING | openpack_torch.data.datasets | No preprocessing is applied.\n",
      "2022-07-10 15:41:19 | INFO | openpack_torch.data.datamodule | dataset[train]: None\n",
      "2022-07-10 15:41:19 | INFO | openpack_torch.data.datamodule | dataset[val]: None\n",
      "2022-07-10 15:41:19 | INFO | openpack_torch.data.datamodule | dataset[test]: {'U0106-S0100': <openpack_torch.data.datasets.OpenPackKeypoint object at 0x7f1258af3190>, 'U0106-S0300': <openpack_torch.data.datasets.OpenPackKeypoint object at 0x7f1258af3f40>, 'U0106-S0500': <openpack_torch.data.datasets.OpenPackKeypoint object at 0x7f1258af36a0>}\n",
      "2022-07-10 15:41:19 | INFO | openpack_torch.data.datamodule | dataset[submission]: None\n",
      "LOCAL_RANK: 0 - CUDA_VISIBLE_DEVICES: [0]\n",
      "2022-07-10 15:41:19 | INFO | __main__ | save t[shape=(14, 900)] to /content/data/log/openpack-2d-kpt/STGCN4Seg/I01-EXP1-V1-nb/pred/U0107-S0300/t.npy\n",
      "2022-07-10 15:41:19 | INFO | __main__ | save y[shape=(14, 11, 900)] to /content/data/log/openpack-2d-kpt/STGCN4Seg/I01-EXP1-V1-nb/pred/U0107-S0300/y.npy\n",
      "2022-07-10 15:41:19 | INFO | __main__ | save unixtime[shape=(14, 900)] to /content/data/log/openpack-2d-kpt/STGCN4Seg/I01-EXP1-V1-nb/pred/U0107-S0300/unixtime.npy\n",
      "2022-07-10 15:41:19 | INFO | __main__ | test on U0107-S0500\n",
      "2022-07-10 15:41:21 | WARNING | openpack_torch.data.datasets | No preprocessing is applied.\n",
      "2022-07-10 15:41:23 | WARNING | openpack_torch.data.datasets | No preprocessing is applied.\n",
      "2022-07-10 15:41:24 | WARNING | openpack_torch.data.datasets | No preprocessing is applied.\n",
      "2022-07-10 15:41:24 | INFO | openpack_torch.data.datamodule | dataset[train]: None\n",
      "2022-07-10 15:41:24 | INFO | openpack_torch.data.datamodule | dataset[val]: None\n",
      "2022-07-10 15:41:24 | INFO | openpack_torch.data.datamodule | dataset[test]: {'U0106-S0100': <openpack_torch.data.datasets.OpenPackKeypoint object at 0x7f1258af33d0>, 'U0106-S0300': <openpack_torch.data.datasets.OpenPackKeypoint object at 0x7f1258af35b0>, 'U0106-S0500': <openpack_torch.data.datasets.OpenPackKeypoint object at 0x7f1258af3c10>}\n",
      "2022-07-10 15:41:24 | INFO | openpack_torch.data.datamodule | dataset[submission]: None\n",
      "LOCAL_RANK: 0 - CUDA_VISIBLE_DEVICES: [0]\n",
      "2022-07-10 15:41:24 | INFO | __main__ | save t[shape=(30, 900)] to /content/data/log/openpack-2d-kpt/STGCN4Seg/I01-EXP1-V1-nb/pred/U0107-S0500/t.npy\n",
      "2022-07-10 15:41:24 | INFO | __main__ | save y[shape=(30, 11, 900)] to /content/data/log/openpack-2d-kpt/STGCN4Seg/I01-EXP1-V1-nb/pred/U0107-S0500/y.npy\n",
      "2022-07-10 15:41:24 | INFO | __main__ | save unixtime[shape=(30, 900)] to /content/data/log/openpack-2d-kpt/STGCN4Seg/I01-EXP1-V1-nb/pred/U0107-S0500/unixtime.npy\n"
     ]
    }
   ],
   "source": [
    "datamodule.setup(\"submission\")\n",
    "dataloaders = datamodule.submission_dataloader()\n",
    "split = cfg.dataset.split.submission\n",
    "\n",
    "outputs = dict()\n",
    "for i, dataloader in enumerate(dataloaders):\n",
    "    user, session = split[i]\n",
    "    logger.info(f\"test on {user}-{session}\")\n",
    "\n",
    "    trainer.test(plmodel, dataloader)\n",
    "\n",
    "    # save model outputs\n",
    "    pred_dir = Path(\n",
    "        cfg.path.logdir.predict.format(user=user, session=session)\n",
    "    )\n",
    "    pred_dir.mkdir(parents=True, exist_ok=True)\n",
    "\n",
    "    for key, arr in plmodel.test_results.items():\n",
    "        path = Path(pred_dir, f\"{key}.npy\")\n",
    "        np.save(path, arr)\n",
    "        logger.info(f\"save {key}[shape={arr.shape}] to {path}\")\n",
    "\n",
    "    outputs[f\"{user}-{session}\"] = {\n",
    "        \"y\": plmodel.test_results.get(\"y\"),\n",
    "        \"unixtime\": plmodel.test_results.get(\"unixtime\"),\n",
    "    }"
   ]
  },
  {
   "cell_type": "code",
   "execution_count": 21,
   "id": "68df5bae-e4f6-4bab-b6a3-a31f5982cf2b",
   "metadata": {},
   "outputs": [
    {
     "data": {
      "text/plain": [
       "dict_keys(['U0107-S0100', 'U0107-S0200', 'U0107-S0300', 'U0107-S0500'])"
      ]
     },
     "execution_count": 21,
     "metadata": {},
     "output_type": "execute_result"
    }
   ],
   "source": [
    "outputs.keys()"
   ]
  },
  {
   "cell_type": "markdown",
   "id": "77d977c9-065c-4e38-b7c3-ab1c4251e1f1",
   "metadata": {},
   "source": [
    "### 5-2: Make submission zip file"
   ]
  },
  {
   "cell_type": "code",
   "execution_count": 22,
   "id": "83ff7cca-5916-4429-87e1-f1136b4bd3cf",
   "metadata": {},
   "outputs": [
    {
     "name": "stderr",
     "output_type": "stream",
     "text": [
      "2022-07-10 15:41:24 | INFO | openpack_toolkit.codalab.operation_segmentation.utils | write submission.json to submission.json\n",
      "2022-07-10 15:41:24 | INFO | openpack_toolkit.codalab.operation_segmentation.utils | write submission.zip to submission.zip\n"
     ]
    }
   ],
   "source": [
    "output_dir = Path(\".\")\n",
    "\n",
    "submission_dict = construct_submission_dict(\n",
    "    outputs, OPENPACK_OPERATIONS)\n",
    "make_submission_zipfile(submission_dict, output_dir)"
   ]
  },
  {
   "cell_type": "code",
   "execution_count": null,
   "id": "e7294f20-139c-48e5-9eb6-68124b14d329",
   "metadata": {},
   "outputs": [],
   "source": []
  }
 ],
 "metadata": {
  "kernelspec": {
   "display_name": "Python 3 (ipykernel)",
   "language": "python",
   "name": "python3"
  },
  "language_info": {
   "codemirror_mode": {
    "name": "ipython",
    "version": 3
   },
   "file_extension": ".py",
   "mimetype": "text/x-python",
   "name": "python",
   "nbconvert_exporter": "python",
   "pygments_lexer": "ipython3",
   "version": "3.8.12"
  }
 },
 "nbformat": 4,
 "nbformat_minor": 5
}
